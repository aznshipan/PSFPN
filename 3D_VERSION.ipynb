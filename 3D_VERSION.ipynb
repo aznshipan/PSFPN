{
 "cells": [
  {
   "cell_type": "code",
   "execution_count": 194,
   "metadata": {},
   "outputs": [],
   "source": [
    "import matplotlib as mpl\n",
    "from mpl_toolkits.mplot3d import Axes3D\n",
    "import matplotlib.pyplot as plt\n",
    "from matplotlib import cm\n",
    "from matplotlib.ticker import LinearLocator\n",
    "import numpy as np\n",
    "from scipy.spatial import ConvexHull\n",
    "import random\n",
    "import plotly.graph_objects as go"
   ]
  },
  {
   "cell_type": "code",
   "execution_count": 195,
   "metadata": {},
   "outputs": [],
   "source": [
    "S = {(-1,-1,-1),(0,0,0),(3,0,0),(0,2,0),(0,0,2)}"
   ]
  },
  {
   "cell_type": "code",
   "execution_count": 196,
   "metadata": {},
   "outputs": [],
   "source": [
    "#Fonctions utiles :\n",
    "\n",
    "def max_dx_dy_dz(S) :\n",
    "    dx = -1000000\n",
    "    dy = -1000000\n",
    "    dz = -1000000\n",
    "    \n",
    "    for (i,j,k) in S :\n",
    "        if i > dx :\n",
    "            dx = i\n",
    "        if j > dy :\n",
    "            dy = j\n",
    "        if k > dz :\n",
    "            dz = k\n",
    "            \n",
    "    return (dx,dy,dz)\n",
    "\n",
    "\n",
    "def min_dx_dy_dz(S) :\n",
    "    dx = 1000000\n",
    "    dy = 1000000\n",
    "    dz = 1000000\n",
    "    \n",
    "    for (i,j,k) in S :\n",
    "        if i < dx :\n",
    "            dx = i\n",
    "        if j < dy :\n",
    "            dy = j\n",
    "        if k < dz :\n",
    "            dz = k\n",
    "            \n",
    "    return (dx,dy,dz)\n",
    "\n",
    "#min_max 2D retoucher pour la 3D :\n",
    "\n",
    "def min_S_plus(S) :\n",
    "    \"\"\" list[int] -> int\n",
    "        Retourne le minimum de (i+j) de l'ensemble S\"\"\"\n",
    "    \n",
    "    mini = 10000\n",
    "    \n",
    "    for (i,j,k) in S :\n",
    "        val = (i+j)\n",
    "        if val < mini :\n",
    "            mini = val\n",
    "    \n",
    "    return mini\n",
    "\n",
    "def min_S_moins(S) :\n",
    "    \"\"\" list[int] -> int\n",
    "        Retourne le minimum de (i-j) de l'ensemble S\"\"\"\n",
    "    \n",
    "    mini = 10000\n",
    "    \n",
    "    for (i,j,k) in S :\n",
    "        val = (i-j)\n",
    "        if val < mini :\n",
    "            mini = val\n",
    "    \n",
    "    return mini\n",
    "\n",
    "\n",
    "def max_S_moins(S) :\n",
    "    \"\"\" list[int] -> int\n",
    "        Retourne le maximum de (i-j) de l'ensemble S\"\"\"\n",
    "    \n",
    "    maxi = 0\n",
    "    \n",
    "    for (i,j,k) in S :\n",
    "        val = (i-j)\n",
    "        if val > maxi :\n",
    "            maxi = val\n",
    "    \n",
    "    return maxi\n",
    "\n",
    "def max_S_plus(S) :\n",
    "    \"\"\" list[int] -> int\n",
    "        Retourne le maximum de (i+j) de l'ensemble S\"\"\"\n",
    "    \n",
    "    maxi = 0\n",
    "    \n",
    "    for (i,j,k) in S :\n",
    "        val = (i+j)\n",
    "        if val > maxi :\n",
    "            maxi = val\n",
    "    \n",
    "    return maxi\n",
    "\n",
    "#min_max S\n",
    "\n",
    "def min_mm_S(S) :\n",
    "    \n",
    "    mini = 100000\n",
    "    \n",
    "    for (i,j,k) in S :\n",
    "        tmp = i-j-k \n",
    "        if tmp < mini :\n",
    "            mini = tmp\n",
    "            \n",
    "    return mini\n",
    "\n",
    "def min_pp_S(S) :\n",
    "    \n",
    "    mini = 100000\n",
    "    \n",
    "    for (i,j,k) in S :\n",
    "        tmp = i+j+k \n",
    "        if tmp < mini :\n",
    "            mini = tmp\n",
    "            \n",
    "    return mini\n",
    "\n",
    "def min_pm_S(S) :\n",
    "    \n",
    "    mini = 100000\n",
    "    \n",
    "    for (i,j,k) in S :\n",
    "        tmp = i+j-k \n",
    "        if tmp < mini :\n",
    "            mini = tmp\n",
    "            \n",
    "    return mini\n",
    "\n",
    "def min_mp_S(S) :\n",
    "    \n",
    "    mini = 100000\n",
    "    \n",
    "    for (i,j,k) in S :\n",
    "        tmp = i-j+k \n",
    "        if tmp < mini :\n",
    "            mini = tmp\n",
    "            \n",
    "    return mini\n",
    "\n",
    "\n",
    "def max_mm_S(S) :\n",
    "    \n",
    "    maxi = -100000\n",
    "    \n",
    "    for (i,j,k) in S :\n",
    "        tmp = i-j-k \n",
    "        if tmp > maxi :\n",
    "            maxi = tmp\n",
    "            \n",
    "    return maxi\n",
    "\n",
    "def max_pp_S(S) :\n",
    "    \n",
    "    maxi = -100000\n",
    "    \n",
    "    for (i,j,k) in S :\n",
    "        tmp = i+j+k \n",
    "        if tmp > maxi :\n",
    "            maxi = tmp\n",
    "            \n",
    "    return maxi\n",
    "\n",
    "def max_pm_S(S) :\n",
    "    \n",
    "    maxi = -100000\n",
    "    \n",
    "    for (i,j,k) in S :\n",
    "        tmp = i+j-k \n",
    "        if tmp > maxi :\n",
    "            maxi = tmp\n",
    "            \n",
    "    return maxi\n",
    "\n",
    "def max_mp_S(S) :\n",
    "    \n",
    "    maxi = -100000\n",
    "    \n",
    "    for (i,j,k) in S :\n",
    "        tmp = i-j+k \n",
    "        if tmp > maxi :\n",
    "            maxi = tmp\n",
    "            \n",
    "    return maxi\n"
   ]
  },
  {
   "cell_type": "code",
   "execution_count": 197,
   "metadata": {},
   "outputs": [
    {
     "data": {
      "image/png": "[encoded data removed]",
      "text/plain": [
       "<Figure size 432x288 with 1 Axes>"
      ]
     },
     "metadata": {
      "needs_background": "light"
     },
     "output_type": "display_data"
    }
   ],
   "source": [
    "#Partie dessin\n",
    "\n",
    "fig = plt.figure()\n",
    "ax = fig.add_subplot(projection='3d')\n",
    "\n",
    "def draw_all_integral_points(S) :\n",
    "    \n",
    "    dx,dy,dz = max_dx_dy_dz(S)\n",
    "    cpt = 0\n",
    "\n",
    "    for i in range (-1,dx) :\n",
    "        for j in range (-1,dy) :\n",
    "            for k in range (-1,dz) :\n",
    "                cpt += 1\n",
    "                ax.scatter3D(i,j,k,color = \"green\")\n",
    "    return cpt\n",
    "\n",
    "def draw_points_S(S) :\n",
    "\n",
    "    for (i,j,k) in S :\n",
    "        ax.scatter3D(i,j,k,color = \"blue\")\n",
    "    ax.set_xlabel('X')\n",
    "    ax.set_ylabel('Y')\n",
    "    ax.set_zlabel('Z')\n",
    "    \n",
    "def draw_convex_hull(S) :\n",
    "    \n",
    "    pts = np.array(list(S))\n",
    "    hull = ConvexHull(pts)\n",
    "    \n",
    "    sommets = set()\n",
    "    for s in hull.simplices:\n",
    "    \n",
    "        s = np.append(s, s[0])  # Here we cycle back to the first coordinate\n",
    "        #print(\"S:\",S)\n",
    "        #print(\"s:\",s)\n",
    "        #print(\"x:\",pts[s, 0])\n",
    "        #print(\"y:\",pts[s, 1])\n",
    "        #print(\"z:\",pts[s, 2])\n",
    "        #print(\"\\n\")\n",
    "        x = pts[s, 0]\n",
    "        y = pts[s, 1]\n",
    "        z = pts[s, 2]\n",
    "        for i in range (0,len(x)-1) :\n",
    "            sommets.add((x[i],y[i],z[i]))\n",
    "        ax.plot(x,y,z, \"y-\")\n",
    "    return sommets\n",
    "\n",
    "    \n",
    "def draw_bounding_box(S) :\n",
    "    \n",
    "    xmin,ymin,zmin = min_dx_dy_dz(S)\n",
    "    xmax,ymax,zmax = max_dx_dy_dz(S)\n",
    "    \n",
    "    x = [xmin,xmin,xmin,xmin,xmax,xmax,xmax,xmax]\n",
    "    y = [ymin,ymin,ymax,ymax,ymin,ymin,ymax,ymax]\n",
    "    z = [zmin,zmax,zmin,zmax,zmin,zmax,zmin,zmax]\n",
    "    \n",
    "    \n",
    "    \n",
    "    ax.scatter3D(x,y,z,color = \"red\",label=\"A\")\n",
    "    \n",
    "    X = [xmin,xmax,xmax,xmin,xmin]\n",
    "    Y = [ymin,ymin,ymin,ymin,ymin]\n",
    "    Z = [zmin,zmin,zmax,zmax,zmin]\n",
    "    \n",
    "    ax.plot(X,Y,Z, \"r-\")\n",
    "    \n",
    "    X = [xmin,xmax,xmax,xmin,xmin]\n",
    "    Y = [ymax,ymax,ymax,ymax,ymax]\n",
    "    Z = [zmin,zmin,zmax,zmax,zmin]\n",
    "    \n",
    "    ax.plot(X,Y,Z, \"r-\")\n",
    "    ax.plot([xmax,xmax],[ymax,ymin],[zmax,zmax], \"r-\")\n",
    "    ax.plot([xmax,xmax],[ymax,ymin],[zmin,zmin], \"r-\")\n",
    "    ax.plot([xmin,xmin],[ymin,ymax],[zmax,zmax], \"r-\")\n",
    "    ax.plot([xmin,xmin],[ymin,ymax],[zmin,zmin], \"r-\")\n",
    "    \n",
    "        \n",
    "def draw_all(S):\n",
    "    \n",
    "    #dense_size = draw_all_integral_points(S)\n",
    "    draw_points_S(S)\n",
    "    draw_bounding_box(S)\n",
    "    sommets = draw_convex_hull(S)\n",
    "\n",
    "draw_all(S)\n",
    "  \n"
   ]
  },
  {
   "cell_type": "code",
   "execution_count": 198,
   "metadata": {
    "scrolled": true
   },
   "outputs": [],
   "source": [
    "def draw_convex_hull_3D(S,fig) :\n",
    "    \n",
    "    pts = np.array(list(S))\n",
    "    hull = ConvexHull(pts)\n",
    "    \n",
    "\n",
    "    for s in hull.simplices:\n",
    "    \n",
    "        s = np.append(s, s[0])  # Here we cycle back to the first coordinate\n",
    "        #print(\"S:\",S)\n",
    "        #print(\"s:\",s)\n",
    "        #print(\"x:\",pts[s, 0])\n",
    "        #print(\"y:\",pts[s, 1])\n",
    "        #print(\"z:\",pts[s, 2])\n",
    "        #print(\"\\n\")\n",
    "        x = pts[s, 0]\n",
    "        y = pts[s, 1]\n",
    "        z = pts[s, 2]\n",
    "\n",
    "        fig.add_scatter3d(x=x, y=y,z=z,marker=dict(color=\"blue\",size=5),name=\"CONVEX HULL\")\n",
    "        \n",
    "\n",
    "def draw_bounding_box_3D(S,fig) :\n",
    "    \n",
    "    xmin,ymin,zmin = min_dx_dy_dz(S)\n",
    "    xmax,ymax,zmax = max_dx_dy_dz(S)\n",
    "    \n",
    "    X = [xmin,xmax,xmax,xmin,xmin]\n",
    "    Y = [ymin,ymin,ymin,ymin,ymin]\n",
    "    Z = [zmin,zmin,zmax,zmax,zmin]\n",
    "    \n",
    "    fig.add_scatter3d(x=X, y=Y,z=Z,marker=dict(color=\"red\",size=5),name=\"CUBE ENGLOBANT\")\n",
    "    \n",
    "    X = [xmin,xmax,xmax,xmin,xmin]\n",
    "    Y = [ymax,ymax,ymax,ymax,ymax]\n",
    "    Z = [zmin,zmin,zmax,zmax,zmin]\n",
    "    \n",
    "    fig.add_scatter3d(x=X, y=Y,z=Z,marker=dict(color=\"red\",size=5),name=\"CUBE ENGLOBANT\")\n",
    "    \n",
    "    fig.add_scatter3d(x=[xmax,xmax], y=[ymax,ymin],z=[zmax,zmax],marker=dict(color=\"red\",size=5),\n",
    "                      name=\"CUBE ENGLOBANT\")\n",
    "    fig.add_scatter3d(x=[xmax,xmax], y=[ymax,ymin],z=[zmin,zmin],marker=dict(color=\"red\",size=5),\n",
    "                      name=\"CUBE ENGLOBANT\")\n",
    "    fig.add_scatter3d(x=[xmin,xmin], y=[ymin,ymax],z=[zmax,zmax],marker=dict(color=\"red\",size=5),\n",
    "                      name=\"CUBE ENGLOBANT\")\n",
    "    fig.add_scatter3d(x=[xmin,xmin], y=[ymin,ymax],z=[zmin,zmin],marker=dict(color=\"red\",size=5),\n",
    "                      name=\"CUBE ENGLOBANT\")\n",
    "\n",
    "def draw_bounding_box_poinnts(S,fig) :\n",
    "    \n",
    "    color_table = [\"red\",\"purple\",\"yellow\",\"green\",\"black\",\"pink\",\"lime\",\"slateblue\"]\n",
    "    \n",
    "    xmin,ymin,zmin = min_dx_dy_dz(S)\n",
    "    xmax,ymax,zmax = max_dx_dy_dz(S)\n",
    "    \n",
    "    x = [xmin,xmin,xmin,xmin,xmax,xmax,xmax,xmax]\n",
    "    y = [ymin,ymin,ymax,ymax,ymin,ymin,ymax,ymax]\n",
    "    z = [zmin,zmax,zmin,zmax,zmin,zmax,zmin,zmax]\n",
    "    \n",
    "    for i in range(0,len(x)) :\n",
    "        fig.add_scatter3d(x=np.array([x[i]]),y=np.array([y[i]]),z=np.array([z[i]]),mode='markers',\n",
    "                          marker=dict(color=color_table[i],size=5),name=chr(65+i))\n",
    "        \n",
    "\n",
    "def draw_points_3D(S,fig) :\n",
    "\n",
    "    x = []\n",
    "    y = []\n",
    "    z = []\n",
    "    for (i,j,k) in S :\n",
    "        x.append(i)\n",
    "        y.append(j)\n",
    "        z.append(k)\n",
    "        \n",
    "    number_of_colors = len(x)\n",
    "    \n",
    "    for i in range(0,len(x)) :\n",
    "        \n",
    "        \n",
    "\n",
    "        c = [\"#\"+''.join([random.choice('0123456789ABCDEF') for j in range(6)])\n",
    "                     for i in range(number_of_colors)]\n",
    "    \n",
    "\n",
    "        fig.add_scatter3d(x=np.array([x[i]]),y=np.array([y[i]]),z=np.array([z[i]]),mode='markers',\n",
    "                          marker=dict(color = \"cyan\",size=5),name=chr(65+i))\n",
    "        \n",
    "\n",
    "    \n",
    "\n",
    "def draw_all_integral_points(S,fig) :\n",
    "    \n",
    "    \n",
    "    xmin,ymin,zmin = min_dx_dy_dz(S)\n",
    "    xmax,ymax,zmax = max_dx_dy_dz(S)\n",
    "    \n",
    "    x = []\n",
    "    y = []\n",
    "    z = []\n",
    "\n",
    "    for i in range (xmin,xmax+1) :\n",
    "        for j in range (ymin,ymax+1) :\n",
    "            for k in range (zmin,zmax+1) :\n",
    "                x.append(i)\n",
    "                y.append(j)\n",
    "                z.append(k)\n",
    "                \n",
    "    fig.add_scatter3d(x=x, y=y,z=z,mode=\"markers\",marker=dict(color=\"green\"),name=\"A\")\n",
    "    \n",
    "def draw_bounding_octagon_and_second_rectangle(S,fig,octogone=False,r = True) :\n",
    "    \n",
    "    # Calcule des coordonnées utiles\n",
    "    dx,dy,zmax = max_dx_dy_dz(S)\n",
    "    xmin,ymin,zmin = min_dx_dy_dz(S)  \n",
    "    \n",
    "    b = dx - max_S_moins(S)\n",
    "    d = dx + dy - max_S_plus(S)\n",
    "    f = dy + min_S_moins(S)\n",
    "    h = min_S_plus(S)\n",
    "    \n",
    "    # Respectivement les coordonées (x,y,z) de [A,B,C,D,E,F,G,H] et [A',B',C',D',E',F',G',H']\n",
    "    x = [h,dx-b,dx,dx,dx-d,f,0,0,h]\n",
    "    y = [0,0,b,dy-d,dy,dy,dy-f,h,0]\n",
    "    z = [zmin,zmin,zmin,zmin,zmin,zmin,zmin,zmin,zmin]\n",
    "    z2 = [zmax,zmax,zmax,zmax,zmax,zmax,zmax,zmax,zmax]\n",
    "    \n",
    "    if octogone :\n",
    "    \n",
    "        #Bounding Octagon :\n",
    "\n",
    "        #Ligne octogone bas\n",
    "        fig.add_scatter3d(x=np.array(x), y=np.array(y),z=np.array(z),marker=dict(color=\"green\",size=3),name=\"octogone\")\n",
    "        #Lignes octogone haut\n",
    "        fig.add_scatter3d(x=np.array(x), y=np.array(y),z=np.array(z2),marker=dict(color=\"green\",size=3),name=\"octogone\")\n",
    "        #Tracage des lignes en hauteur\n",
    "        for i in range(0,len(z)) :\n",
    "            fig.add_scatter3d(x=[x[i],x[i]], y=[y[i],y[i]],z=[zmin,zmax],marker=dict(color=\"green\",size=3),name=\"octogone\")\n",
    "    \n",
    "    if r :\n",
    "        #Bounding second rectangle :\n",
    "\n",
    "        #Calcule du milieu de [AB],[CD],[EF],[GH] :\n",
    "        x_milieu = []\n",
    "        y_milieu = []\n",
    "\n",
    "        cpt = 0 \n",
    "        indice = 0\n",
    "        while cpt < 4 :\n",
    "            if cpt % 2 == 0 :\n",
    "                mid = abs((x[indice+1] - x[indice])/2 )\n",
    "\n",
    "                if cpt == 2 :\n",
    "                    x_milieu.append( x[indice] - mid )\n",
    "                    y_milieu.append( y[indice] + mid)\n",
    "\n",
    "                else :\n",
    "                    x_milieu.append( x[indice] + mid )\n",
    "                    y_milieu.append( y[indice] - mid)\n",
    "\n",
    "            else :\n",
    "                mid = abs((y[indice+1] - y[indice])/2 )\n",
    "\n",
    "                if cpt == 1 :\n",
    "\n",
    "                    x_milieu.append( x[indice] + mid )\n",
    "                    y_milieu.append( y[indice] + mid)\n",
    "\n",
    "                else :\n",
    "\n",
    "                    x_milieu.append( x[indice] - mid )\n",
    "                    y_milieu.append( y[indice] - mid)\n",
    "\n",
    "\n",
    "            indice += 2\n",
    "            cpt += 1\n",
    "        x_milieu.append(x_milieu[0])\n",
    "        y_milieu.append(y_milieu[0])\n",
    "\n",
    "        #Tracage du cube :\n",
    "\n",
    "        #Ligne octogone bas\n",
    "        fig.add_scatter3d(x=x_milieu, y=y_milieu,z=z,marker=dict(color=\"purple\",size=3),name=\"R'\")\n",
    "        #Lignes octogone haut\n",
    "        fig.add_scatter3d(x=x_milieu, y=y_milieu,z=z2,marker=dict(color=\"purple\",size=3),name=\"R'\")\n",
    "        for i in range(0,4) :\n",
    "            fig.add_scatter3d(x=[x_milieu[i],x_milieu[i]], y=[y_milieu[i],y_milieu[i]],z=[zmin,zmax],marker=dict(color=\"purple\",size=3),name=\"R'\")\n",
    "\n",
    "        \n",
    "\n",
    "def main() :\n",
    "    \n",
    "    fig = go.Figure()\n",
    "\n",
    "    \n",
    "    #draw_all_integral_points(S,fig)\n",
    "    \n",
    "    draw_convex_hull_3D(S,fig) \n",
    "    draw_bounding_box_3D(S,fig)\n",
    "    #draw_bounding_box_poinnts(S,fig)\n",
    "    draw_points_3D(S,fig) \n",
    "\n",
    "\n",
    "    fig.show()\n",
    "\n",
    "    \n",
    "#main()"
   ]
  },
  {
   "cell_type": "code",
   "execution_count": 199,
   "metadata": {},
   "outputs": [],
   "source": [
    "S1={(2,0,0),(1,1,1),(5,2,2),(7,2,0),(2,3,4),(2,2,2),(0,4,0),(7,4,3),(8,4,0),(5,5,0)}"
   ]
  },
  {
   "cell_type": "code",
   "execution_count": 200,
   "metadata": {},
   "outputs": [
    {
     "data": {
      "application/vnd.plotly.v1+json": {
       "config": {
        "plotlyServerURL": "https://plot.ly"
       },
       "data": [
        {
         "marker": {
          "color": "purple",
          "size": 3
         },
         "name": "R'",
         "type": "scatter3d",
         "x": [
          3.5,
          8.5,
          4,
          -1,
          3.5
         ],
         "y": [
          -1.5,
          3.5,
          8,
          3,
          -1.5
         ],
         "z": [
          0,
          0,
          0,
          0,
          0,
          0,
          0,
          0,
          0
         ]
        },
        {
         "marker": {
          "color": "purple",
          "size": 3
         },
         "name": "R'",
         "type": "scatter3d",
         "x": [
          3.5,
          8.5,
          4,
          -1,
          3.5
         ],
         "y": [
          -1.5,
          3.5,
          8,
          3,
          -1.5
         ],
         "z": [
          4,
          4,
          4,
          4,
          4,
          4,
          4,
          4,
          4
         ]
        },
        {
         "marker": {
          "color": "purple",
          "size": 3
         },
         "name": "R'",
         "type": "scatter3d",
         "x": [
          3.5,
          3.5
         ],
         "y": [
          -1.5,
          -1.5
         ],
         "z": [
          0,
          4
         ]
        },
        {
         "marker": {
          "color": "purple",
          "size": 3
         },
         "name": "R'",
         "type": "scatter3d",
         "x": [
          8.5,
          8.5
         ],
         "y": [
          3.5,
          3.5
         ],
         "z": [
          0,
          4
         ]
        },
        {
         "marker": {
          "color": "purple",
          "size": 3
         },
         "name": "R'",
         "type": "scatter3d",
         "x": [
          4,
          4
         ],
         "y": [
          8,
          8
         ],
         "z": [
          0,
          4
         ]
        },
        {
         "marker": {
          "color": "purple",
          "size": 3
         },
         "name": "R'",
         "type": "scatter3d",
         "x": [
          -1,
          -1
         ],
         "y": [
          3,
          3
         ],
         "z": [
          0,
          4
         ]
        },
        {
         "marker": {
          "color": "cyan",
          "size": 5
         },
         "mode": "markers",
         "name": "A",
         "type": "scatter3d",
         "x": [
          7
         ],
         "y": [
          2
         ],
         "z": [
          0
         ]
        },
        {
         "marker": {
          "color": "cyan",
          "size": 5
         },
         "mode": "markers",
         "name": "B",
         "type": "scatter3d",
         "x": [
          5
         ],
         "y": [
          2
         ],
         "z": [
          2
         ]
        },
        {
         "marker": {
          "color": "cyan",
          "size": 5
         },
         "mode": "markers",
         "name": "C",
         "type": "scatter3d",
         "x": [
          2
         ],
         "y": [
          2
         ],
         "z": [
          2
         ]
        },
        {
         "marker": {
          "color": "cyan",
          "size": 5
         },
         "mode": "markers",
         "name": "D",
         "type": "scatter3d",
         "x": [
          7
         ],
         "y": [
          4
         ],
         "z": [
          3
         ]
        },
        {
         "marker": {
          "color": "cyan",
          "size": 5
         },
         "mode": "markers",
         "name": "E",
         "type": "scatter3d",
         "x": [
          0
         ],
         "y": [
          4
         ],
         "z": [
          0
         ]
        },
        {
         "marker": {
          "color": "cyan",
          "size": 5
         },
         "mode": "markers",
         "name": "F",
         "type": "scatter3d",
         "x": [
          5
         ],
         "y": [
          5
         ],
         "z": [
          0
         ]
        },
        {
         "marker": {
          "color": "cyan",
          "size": 5
         },
         "mode": "markers",
         "name": "G",
         "type": "scatter3d",
         "x": [
          2
         ],
         "y": [
          3
         ],
         "z": [
          4
         ]
        },
        {
         "marker": {
          "color": "cyan",
          "size": 5
         },
         "mode": "markers",
         "name": "H",
         "type": "scatter3d",
         "x": [
          2
         ],
         "y": [
          0
         ],
         "z": [
          0
         ]
        },
        {
         "marker": {
          "color": "cyan",
          "size": 5
         },
         "mode": "markers",
         "name": "I",
         "type": "scatter3d",
         "x": [
          8
         ],
         "y": [
          4
         ],
         "z": [
          0
         ]
        },
        {
         "marker": {
          "color": "cyan",
          "size": 5
         },
         "mode": "markers",
         "name": "J",
         "type": "scatter3d",
         "x": [
          1
         ],
         "y": [
          1
         ],
         "z": [
          1
         ]
        },
        {
         "marker": {
          "color": "blue",
          "size": 5
         },
         "name": "CONVEX HULL",
         "type": "scatter3d",
         "x": [
          5,
          2,
          2,
          5
         ],
         "y": [
          2,
          3,
          0,
          2
         ],
         "z": [
          2,
          4,
          0,
          2
         ]
        },
        {
         "marker": {
          "color": "blue",
          "size": 5
         },
         "name": "CONVEX HULL",
         "type": "scatter3d",
         "x": [
          5,
          2,
          0,
          5
         ],
         "y": [
          5,
          3,
          4,
          5
         ],
         "z": [
          0,
          4,
          0,
          0
         ]
        },
        {
         "marker": {
          "color": "blue",
          "size": 5
         },
         "name": "CONVEX HULL",
         "type": "scatter3d",
         "x": [
          1,
          2,
          0,
          1
         ],
         "y": [
          1,
          0,
          4,
          1
         ],
         "z": [
          1,
          0,
          0,
          1
         ]
        },
        {
         "marker": {
          "color": "blue",
          "size": 5
         },
         "name": "CONVEX HULL",
         "type": "scatter3d",
         "x": [
          1,
          2,
          0,
          1
         ],
         "y": [
          1,
          3,
          4,
          1
         ],
         "z": [
          1,
          4,
          0,
          1
         ]
        },
        {
         "marker": {
          "color": "blue",
          "size": 5
         },
         "name": "CONVEX HULL",
         "type": "scatter3d",
         "x": [
          1,
          2,
          2,
          1
         ],
         "y": [
          1,
          3,
          0,
          1
         ],
         "z": [
          1,
          4,
          0,
          1
         ]
        },
        {
         "marker": {
          "color": "blue",
          "size": 5
         },
         "name": "CONVEX HULL",
         "type": "scatter3d",
         "x": [
          7,
          5,
          2,
          7
         ],
         "y": [
          2,
          2,
          0,
          2
         ],
         "z": [
          0,
          2,
          0,
          0
         ]
        },
        {
         "marker": {
          "color": "blue",
          "size": 5
         },
         "name": "CONVEX HULL",
         "type": "scatter3d",
         "x": [
          7,
          5,
          8,
          7
         ],
         "y": [
          4,
          5,
          4,
          4
         ],
         "z": [
          3,
          0,
          0,
          3
         ]
        },
        {
         "marker": {
          "color": "blue",
          "size": 5
         },
         "name": "CONVEX HULL",
         "type": "scatter3d",
         "x": [
          7,
          5,
          2,
          7
         ],
         "y": [
          4,
          5,
          3,
          4
         ],
         "z": [
          3,
          0,
          4,
          3
         ]
        },
        {
         "marker": {
          "color": "blue",
          "size": 5
         },
         "name": "CONVEX HULL",
         "type": "scatter3d",
         "x": [
          7,
          5,
          2,
          7
         ],
         "y": [
          4,
          2,
          3,
          4
         ],
         "z": [
          3,
          2,
          4,
          3
         ]
        },
        {
         "marker": {
          "color": "blue",
          "size": 5
         },
         "name": "CONVEX HULL",
         "type": "scatter3d",
         "x": [
          7,
          7,
          8,
          7
         ],
         "y": [
          4,
          2,
          4,
          4
         ],
         "z": [
          3,
          0,
          0,
          3
         ]
        },
        {
         "marker": {
          "color": "blue",
          "size": 5
         },
         "name": "CONVEX HULL",
         "type": "scatter3d",
         "x": [
          7,
          7,
          5,
          7
         ],
         "y": [
          4,
          2,
          2,
          4
         ],
         "z": [
          3,
          0,
          2,
          3
         ]
        },
        {
         "marker": {
          "color": "blue",
          "size": 5
         },
         "name": "CONVEX HULL",
         "type": "scatter3d",
         "x": [
          7,
          5,
          0,
          7
         ],
         "y": [
          2,
          5,
          4,
          2
         ],
         "z": [
          0,
          0,
          0,
          0
         ]
        },
        {
         "marker": {
          "color": "blue",
          "size": 5
         },
         "name": "CONVEX HULL",
         "type": "scatter3d",
         "x": [
          7,
          2,
          0,
          7
         ],
         "y": [
          2,
          0,
          4,
          2
         ],
         "z": [
          0,
          0,
          0,
          0
         ]
        },
        {
         "marker": {
          "color": "blue",
          "size": 5
         },
         "name": "CONVEX HULL",
         "type": "scatter3d",
         "x": [
          7,
          5,
          8,
          7
         ],
         "y": [
          2,
          5,
          4,
          2
         ],
         "z": [
          0,
          0,
          0,
          0
         ]
        },
        {
         "marker": {
          "color": "red",
          "size": 5
         },
         "name": "CUBE ENGLOBANT",
         "type": "scatter3d",
         "x": [
          0,
          8,
          8,
          0,
          0
         ],
         "y": [
          0,
          0,
          0,
          0,
          0
         ],
         "z": [
          0,
          0,
          4,
          4,
          0
         ]
        },
        {
         "marker": {
          "color": "red",
          "size": 5
         },
         "name": "CUBE ENGLOBANT",
         "type": "scatter3d",
         "x": [
          0,
          8,
          8,
          0,
          0
         ],
         "y": [
          5,
          5,
          5,
          5,
          5
         ],
         "z": [
          0,
          0,
          4,
          4,
          0
         ]
        },
        {
         "marker": {
          "color": "red",
          "size": 5
         },
         "name": "CUBE ENGLOBANT",
         "type": "scatter3d",
         "x": [
          8,
          8
         ],
         "y": [
          5,
          0
         ],
         "z": [
          4,
          4
         ]
        },
        {
         "marker": {
          "color": "red",
          "size": 5
         },
         "name": "CUBE ENGLOBANT",
         "type": "scatter3d",
         "x": [
          8,
          8
         ],
         "y": [
          5,
          0
         ],
         "z": [
          0,
          0
         ]
        },
        {
         "marker": {
          "color": "red",
          "size": 5
         },
         "name": "CUBE ENGLOBANT",
         "type": "scatter3d",
         "x": [
          0,
          0
         ],
         "y": [
          0,
          5
         ],
         "z": [
          4,
          4
         ]
        },
        {
         "marker": {
          "color": "red",
          "size": 5
         },
         "name": "CUBE ENGLOBANT",
         "type": "scatter3d",
         "x": [
          0,
          0
         ],
         "y": [
          0,
          5
         ],
         "z": [
          0,
          0
         ]
        }
       ],
       "layout": {
        "template": {
         "data": {
          "bar": [
           {
            "error_x": {
             "color": "#2a3f5f"
            },
            "error_y": {
             "color": "#2a3f5f"
            },
            "marker": {
             "line": {
              "color": "#E5ECF6",
              "width": 0.5
             }
            },
            "type": "bar"
           }
          ],
          "barpolar": [
           {
            "marker": {
             "line": {
              "color": "#E5ECF6",
              "width": 0.5
             }
            },
            "type": "barpolar"
           }
          ],
          "carpet": [
           {
            "aaxis": {
             "endlinecolor": "#2a3f5f",
             "gridcolor": "white",
             "linecolor": "white",
             "minorgridcolor": "white",
             "startlinecolor": "#2a3f5f"
            },
            "baxis": {
             "endlinecolor": "#2a3f5f",
             "gridcolor": "white",
             "linecolor": "white",
             "minorgridcolor": "white",
             "startlinecolor": "#2a3f5f"
            },
            "type": "carpet"
           }
          ],
          "choropleth": [
           {
            "colorbar": {
             "outlinewidth": 0,
             "ticks": ""
            },
            "type": "choropleth"
           }
          ],
          "contour": [
           {
            "colorbar": {
             "outlinewidth": 0,
             "ticks": ""
            },
            "colorscale": [
             [
              0,
              "#0d0887"
             ],
             [
              0.1111111111111111,
              "#46039f"
             ],
             [
              0.2222222222222222,
              "#7201a8"
             ],
             [
              0.3333333333333333,
              "#9c179e"
             ],
             [
              0.4444444444444444,
              "#bd3786"
             ],
             [
              0.5555555555555556,
              "#d8576b"
             ],
             [
              0.6666666666666666,
              "#ed7953"
             ],
             [
              0.7777777777777778,
              "#fb9f3a"
             ],
             [
              0.8888888888888888,
              "#fdca26"
             ],
             [
              1,
              "#f0f921"
             ]
            ],
            "type": "contour"
           }
          ],
          "contourcarpet": [
           {
            "colorbar": {
             "outlinewidth": 0,
             "ticks": ""
            },
            "type": "contourcarpet"
           }
          ],
          "heatmap": [
           {
            "colorbar": {
             "outlinewidth": 0,
             "ticks": ""
            },
            "colorscale": [
             [
              0,
              "#0d0887"
             ],
             [
              0.1111111111111111,
              "#46039f"
             ],
             [
              0.2222222222222222,
              "#7201a8"
             ],
             [
              0.3333333333333333,
              "#9c179e"
             ],
             [
              0.4444444444444444,
              "#bd3786"
             ],
             [
              0.5555555555555556,
              "#d8576b"
             ],
             [
              0.6666666666666666,
              "#ed7953"
             ],
             [
              0.7777777777777778,
              "#fb9f3a"
             ],
             [
              0.8888888888888888,
              "#fdca26"
             ],
             [
              1,
              "#f0f921"
             ]
            ],
            "type": "heatmap"
           }
          ],
          "heatmapgl": [
           {
            "colorbar": {
             "outlinewidth": 0,
             "ticks": ""
            },
            "colorscale": [
             [
              0,
              "#0d0887"
             ],
             [
              0.1111111111111111,
              "#46039f"
             ],
             [
              0.2222222222222222,
              "#7201a8"
             ],
             [
              0.3333333333333333,
              "#9c179e"
             ],
             [
              0.4444444444444444,
              "#bd3786"
             ],
             [
              0.5555555555555556,
              "#d8576b"
             ],
             [
              0.6666666666666666,
              "#ed7953"
             ],
             [
              0.7777777777777778,
              "#fb9f3a"
             ],
             [
              0.8888888888888888,
              "#fdca26"
             ],
             [
              1,
              "#f0f921"
             ]
            ],
            "type": "heatmapgl"
           }
          ],
          "histogram": [
           {
            "marker": {
             "colorbar": {
              "outlinewidth": 0,
              "ticks": ""
             }
            },
            "type": "histogram"
           }
          ],
          "histogram2d": [
           {
            "colorbar": {
             "outlinewidth": 0,
             "ticks": ""
            },
            "colorscale": [
             [
              0,
              "#0d0887"
             ],
             [
              0.1111111111111111,
              "#46039f"
             ],
             [
              0.2222222222222222,
              "#7201a8"
             ],
             [
              0.3333333333333333,
              "#9c179e"
             ],
             [
              0.4444444444444444,
              "#bd3786"
             ],
             [
              0.5555555555555556,
              "#d8576b"
             ],
             [
              0.6666666666666666,
              "#ed7953"
             ],
             [
              0.7777777777777778,
              "#fb9f3a"
             ],
             [
              0.8888888888888888,
              "#fdca26"
             ],
             [
              1,
              "#f0f921"
             ]
            ],
            "type": "histogram2d"
           }
          ],
          "histogram2dcontour": [
           {
            "colorbar": {
             "outlinewidth": 0,
             "ticks": ""
            },
            "colorscale": [
             [
              0,
              "#0d0887"
             ],
             [
              0.1111111111111111,
              "#46039f"
             ],
             [
              0.2222222222222222,
              "#7201a8"
             ],
             [
              0.3333333333333333,
              "#9c179e"
             ],
             [
              0.4444444444444444,
              "#bd3786"
             ],
             [
              0.5555555555555556,
              "#d8576b"
             ],
             [
              0.6666666666666666,
              "#ed7953"
             ],
             [
              0.7777777777777778,
              "#fb9f3a"
             ],
             [
              0.8888888888888888,
              "#fdca26"
             ],
             [
              1,
              "#f0f921"
             ]
            ],
            "type": "histogram2dcontour"
           }
          ],
          "mesh3d": [
           {
            "colorbar": {
             "outlinewidth": 0,
             "ticks": ""
            },
            "type": "mesh3d"
           }
          ],
          "parcoords": [
           {
            "line": {
             "colorbar": {
              "outlinewidth": 0,
              "ticks": ""
             }
            },
            "type": "parcoords"
           }
          ],
          "pie": [
           {
            "automargin": true,
            "type": "pie"
           }
          ],
          "scatter": [
           {
            "marker": {
             "colorbar": {
              "outlinewidth": 0,
              "ticks": ""
             }
            },
            "type": "scatter"
           }
          ],
          "scatter3d": [
           {
            "line": {
             "colorbar": {
              "outlinewidth": 0,
              "ticks": ""
             }
            },
            "marker": {
             "colorbar": {
              "outlinewidth": 0,
              "ticks": ""
             }
            },
            "type": "scatter3d"
           }
          ],
          "scattercarpet": [
           {
            "marker": {
             "colorbar": {
              "outlinewidth": 0,
              "ticks": ""
             }
            },
            "type": "scattercarpet"
           }
          ],
          "scattergeo": [
           {
            "marker": {
             "colorbar": {
              "outlinewidth": 0,
              "ticks": ""
             }
            },
            "type": "scattergeo"
           }
          ],
          "scattergl": [
           {
            "marker": {
             "colorbar": {
              "outlinewidth": 0,
              "ticks": ""
             }
            },
            "type": "scattergl"
           }
          ],
          "scattermapbox": [
           {
            "marker": {
             "colorbar": {
              "outlinewidth": 0,
              "ticks": ""
             }
            },
            "type": "scattermapbox"
           }
          ],
          "scatterpolar": [
           {
            "marker": {
             "colorbar": {
              "outlinewidth": 0,
              "ticks": ""
             }
            },
            "type": "scatterpolar"
           }
          ],
          "scatterpolargl": [
           {
            "marker": {
             "colorbar": {
              "outlinewidth": 0,
              "ticks": ""
             }
            },
            "type": "scatterpolargl"
           }
          ],
          "scatterternary": [
           {
            "marker": {
             "colorbar": {
              "outlinewidth": 0,
              "ticks": ""
             }
            },
            "type": "scatterternary"
           }
          ],
          "surface": [
           {
            "colorbar": {
             "outlinewidth": 0,
             "ticks": ""
            },
            "colorscale": [
             [
              0,
              "#0d0887"
             ],
             [
              0.1111111111111111,
              "#46039f"
             ],
             [
              0.2222222222222222,
              "#7201a8"
             ],
             [
              0.3333333333333333,
              "#9c179e"
             ],
             [
              0.4444444444444444,
              "#bd3786"
             ],
             [
              0.5555555555555556,
              "#d8576b"
             ],
             [
              0.6666666666666666,
              "#ed7953"
             ],
             [
              0.7777777777777778,
              "#fb9f3a"
             ],
             [
              0.8888888888888888,
              "#fdca26"
             ],
             [
              1,
              "#f0f921"
             ]
            ],
            "type": "surface"
           }
          ],
          "table": [
           {
            "cells": {
             "fill": {
              "color": "#EBF0F8"
             },
             "line": {
              "color": "white"
             }
            },
            "header": {
             "fill": {
              "color": "#C8D4E3"
             },
             "line": {
              "color": "white"
             }
            },
            "type": "table"
           }
          ]
         },
         "layout": {
          "annotationdefaults": {
           "arrowcolor": "#2a3f5f",
           "arrowhead": 0,
           "arrowwidth": 1
          },
          "coloraxis": {
           "colorbar": {
            "outlinewidth": 0,
            "ticks": ""
           }
          },
          "colorscale": {
           "diverging": [
            [
             0,
             "#8e0152"
            ],
            [
             0.1,
             "#c51b7d"
            ],
            [
             0.2,
             "#de77ae"
            ],
            [
             0.3,
             "#f1b6da"
            ],
            [
             0.4,
             "#fde0ef"
            ],
            [
             0.5,
             "#f7f7f7"
            ],
            [
             0.6,
             "#e6f5d0"
            ],
            [
             0.7,
             "#b8e186"
            ],
            [
             0.8,
             "#7fbc41"
            ],
            [
             0.9,
             "#4d9221"
            ],
            [
             1,
             "#276419"
            ]
           ],
           "sequential": [
            [
             0,
             "#0d0887"
            ],
            [
             0.1111111111111111,
             "#46039f"
            ],
            [
             0.2222222222222222,
             "#7201a8"
            ],
            [
             0.3333333333333333,
             "#9c179e"
            ],
            [
             0.4444444444444444,
             "#bd3786"
            ],
            [
             0.5555555555555556,
             "#d8576b"
            ],
            [
             0.6666666666666666,
             "#ed7953"
            ],
            [
             0.7777777777777778,
             "#fb9f3a"
            ],
            [
             0.8888888888888888,
             "#fdca26"
            ],
            [
             1,
             "#f0f921"
            ]
           ],
           "sequentialminus": [
            [
             0,
             "#0d0887"
            ],
            [
             0.1111111111111111,
             "#46039f"
            ],
            [
             0.2222222222222222,
             "#7201a8"
            ],
            [
             0.3333333333333333,
             "#9c179e"
            ],
            [
             0.4444444444444444,
             "#bd3786"
            ],
            [
             0.5555555555555556,
             "#d8576b"
            ],
            [
             0.6666666666666666,
             "#ed7953"
            ],
            [
             0.7777777777777778,
             "#fb9f3a"
            ],
            [
             0.8888888888888888,
             "#fdca26"
            ],
            [
             1,
             "#f0f921"
            ]
           ]
          },
          "colorway": [
           "#636efa",
           "#EF553B",
           "#00cc96",
           "#ab63fa",
           "#FFA15A",
           "#19d3f3",
           "#FF6692",
           "#B6E880",
           "#FF97FF",
           "#FECB52"
          ],
          "font": {
           "color": "#2a3f5f"
          },
          "geo": {
           "bgcolor": "white",
           "lakecolor": "white",
           "landcolor": "#E5ECF6",
           "showlakes": true,
           "showland": true,
           "subunitcolor": "white"
          },
          "hoverlabel": {
           "align": "left"
          },
          "hovermode": "closest",
          "mapbox": {
           "style": "light"
          },
          "paper_bgcolor": "white",
          "plot_bgcolor": "#E5ECF6",
          "polar": {
           "angularaxis": {
            "gridcolor": "white",
            "linecolor": "white",
            "ticks": ""
           },
           "bgcolor": "#E5ECF6",
           "radialaxis": {
            "gridcolor": "white",
            "linecolor": "white",
            "ticks": ""
           }
          },
          "scene": {
           "xaxis": {
            "backgroundcolor": "#E5ECF6",
            "gridcolor": "white",
            "gridwidth": 2,
            "linecolor": "white",
            "showbackground": true,
            "ticks": "",
            "zerolinecolor": "white"
           },
           "yaxis": {
            "backgroundcolor": "#E5ECF6",
            "gridcolor": "white",
            "gridwidth": 2,
            "linecolor": "white",
            "showbackground": true,
            "ticks": "",
            "zerolinecolor": "white"
           },
           "zaxis": {
            "backgroundcolor": "#E5ECF6",
            "gridcolor": "white",
            "gridwidth": 2,
            "linecolor": "white",
            "showbackground": true,
            "ticks": "",
            "zerolinecolor": "white"
           }
          },
          "shapedefaults": {
           "line": {
            "color": "#2a3f5f"
           }
          },
          "ternary": {
           "aaxis": {
            "gridcolor": "white",
            "linecolor": "white",
            "ticks": ""
           },
           "baxis": {
            "gridcolor": "white",
            "linecolor": "white",
            "ticks": ""
           },
           "bgcolor": "#E5ECF6",
           "caxis": {
            "gridcolor": "white",
            "linecolor": "white",
            "ticks": ""
           }
          },
          "title": {
           "x": 0.05
          },
          "xaxis": {
           "automargin": true,
           "gridcolor": "white",
           "linecolor": "white",
           "ticks": "",
           "title": {
            "standoff": 15
           },
           "zerolinecolor": "white",
           "zerolinewidth": 2
          },
          "yaxis": {
           "automargin": true,
           "gridcolor": "white",
           "linecolor": "white",
           "ticks": "",
           "title": {
            "standoff": 15
           },
           "zerolinecolor": "white",
           "zerolinewidth": 2
          }
         }
        }
       }
      },
      "text/html": [
       "<div>                            <div id=\"ff7c4283-1bf1-4022-9b70-43cdacfebab3\" class=\"plotly-graph-div\" style=\"height:525px; width:100%;\"></div>            <script type=\"text/javascript\">                require([\"plotly\"], function(Plotly) {                    window.PLOTLYENV=window.PLOTLYENV || {};                                    if (document.getElementById(\"ff7c4283-1bf1-4022-9b70-43cdacfebab3\")) {                    Plotly.newPlot(                        \"ff7c4283-1bf1-4022-9b70-43cdacfebab3\",                        [{\"marker\": {\"color\": \"purple\", \"size\": 3.0}, \"name\": \"R'\", \"type\": \"scatter3d\", \"x\": [3.5, 8.5, 4, -1, 3.5], \"y\": [-1.5, 3.5, 8, 3, -1.5], \"z\": [0, 0, 0, 0, 0, 0, 0, 0, 0]}, {\"marker\": {\"color\": \"purple\", \"size\": 3.0}, \"name\": \"R'\", \"type\": \"scatter3d\", \"x\": [3.5, 8.5, 4, -1, 3.5], \"y\": [-1.5, 3.5, 8, 3, -1.5], \"z\": [4, 4, 4, 4, 4, 4, 4, 4, 4]}, {\"marker\": {\"color\": \"purple\", \"size\": 3.0}, \"name\": \"R'\", \"type\": \"scatter3d\", \"x\": [3.5, 3.5], \"y\": [-1.5, -1.5], \"z\": [0, 4]}, {\"marker\": {\"color\": \"purple\", \"size\": 3.0}, \"name\": \"R'\", \"type\": \"scatter3d\", \"x\": [8.5, 8.5], \"y\": [3.5, 3.5], \"z\": [0, 4]}, {\"marker\": {\"color\": \"purple\", \"size\": 3.0}, \"name\": \"R'\", \"type\": \"scatter3d\", \"x\": [4, 4], \"y\": [8, 8], \"z\": [0, 4]}, {\"marker\": {\"color\": \"purple\", \"size\": 3.0}, \"name\": \"R'\", \"type\": \"scatter3d\", \"x\": [-1, -1], \"y\": [3, 3], \"z\": [0, 4]}, {\"marker\": {\"color\": \"cyan\", \"size\": 5.0}, \"mode\": \"markers\", \"name\": \"A\", \"type\": \"scatter3d\", \"x\": [7], \"y\": [2], \"z\": [0]}, {\"marker\": {\"color\": \"cyan\", \"size\": 5.0}, \"mode\": \"markers\", \"name\": \"B\", \"type\": \"scatter3d\", \"x\": [5], \"y\": [2], \"z\": [2]}, {\"marker\": {\"color\": \"cyan\", \"size\": 5.0}, \"mode\": \"markers\", \"name\": \"C\", \"type\": \"scatter3d\", \"x\": [2], \"y\": [2], \"z\": [2]}, {\"marker\": {\"color\": \"cyan\", \"size\": 5.0}, \"mode\": \"markers\", \"name\": \"D\", \"type\": \"scatter3d\", \"x\": [7], \"y\": [4], \"z\": [3]}, {\"marker\": {\"color\": \"cyan\", \"size\": 5.0}, \"mode\": \"markers\", \"name\": \"E\", \"type\": \"scatter3d\", \"x\": [0], \"y\": [4], \"z\": [0]}, {\"marker\": {\"color\": \"cyan\", \"size\": 5.0}, \"mode\": \"markers\", \"name\": \"F\", \"type\": \"scatter3d\", \"x\": [5], \"y\": [5], \"z\": [0]}, {\"marker\": {\"color\": \"cyan\", \"size\": 5.0}, \"mode\": \"markers\", \"name\": \"G\", \"type\": \"scatter3d\", \"x\": [2], \"y\": [3], \"z\": [4]}, {\"marker\": {\"color\": \"cyan\", \"size\": 5.0}, \"mode\": \"markers\", \"name\": \"H\", \"type\": \"scatter3d\", \"x\": [2], \"y\": [0], \"z\": [0]}, {\"marker\": {\"color\": \"cyan\", \"size\": 5.0}, \"mode\": \"markers\", \"name\": \"I\", \"type\": \"scatter3d\", \"x\": [8], \"y\": [4], \"z\": [0]}, {\"marker\": {\"color\": \"cyan\", \"size\": 5.0}, \"mode\": \"markers\", \"name\": \"J\", \"type\": \"scatter3d\", \"x\": [1], \"y\": [1], \"z\": [1]}, {\"marker\": {\"color\": \"blue\", \"size\": 5.0}, \"name\": \"CONVEX HULL\", \"type\": \"scatter3d\", \"x\": [5, 2, 2, 5], \"y\": [2, 3, 0, 2], \"z\": [2, 4, 0, 2]}, {\"marker\": {\"color\": \"blue\", \"size\": 5.0}, \"name\": \"CONVEX HULL\", \"type\": \"scatter3d\", \"x\": [5, 2, 0, 5], \"y\": [5, 3, 4, 5], \"z\": [0, 4, 0, 0]}, {\"marker\": {\"color\": \"blue\", \"size\": 5.0}, \"name\": \"CONVEX HULL\", \"type\": \"scatter3d\", \"x\": [1, 2, 0, 1], \"y\": [1, 0, 4, 1], \"z\": [1, 0, 0, 1]}, {\"marker\": {\"color\": \"blue\", \"size\": 5.0}, \"name\": \"CONVEX HULL\", \"type\": \"scatter3d\", \"x\": [1, 2, 0, 1], \"y\": [1, 3, 4, 1], \"z\": [1, 4, 0, 1]}, {\"marker\": {\"color\": \"blue\", \"size\": 5.0}, \"name\": \"CONVEX HULL\", \"type\": \"scatter3d\", \"x\": [1, 2, 2, 1], \"y\": [1, 3, 0, 1], \"z\": [1, 4, 0, 1]}, {\"marker\": {\"color\": \"blue\", \"size\": 5.0}, \"name\": \"CONVEX HULL\", \"type\": \"scatter3d\", \"x\": [7, 5, 2, 7], \"y\": [2, 2, 0, 2], \"z\": [0, 2, 0, 0]}, {\"marker\": {\"color\": \"blue\", \"size\": 5.0}, \"name\": \"CONVEX HULL\", \"type\": \"scatter3d\", \"x\": [7, 5, 8, 7], \"y\": [4, 5, 4, 4], \"z\": [3, 0, 0, 3]}, {\"marker\": {\"color\": \"blue\", \"size\": 5.0}, \"name\": \"CONVEX HULL\", \"type\": \"scatter3d\", \"x\": [7, 5, 2, 7], \"y\": [4, 5, 3, 4], \"z\": [3, 0, 4, 3]}, {\"marker\": {\"color\": \"blue\", \"size\": 5.0}, \"name\": \"CONVEX HULL\", \"type\": \"scatter3d\", \"x\": [7, 5, 2, 7], \"y\": [4, 2, 3, 4], \"z\": [3, 2, 4, 3]}, {\"marker\": {\"color\": \"blue\", \"size\": 5.0}, \"name\": \"CONVEX HULL\", \"type\": \"scatter3d\", \"x\": [7, 7, 8, 7], \"y\": [4, 2, 4, 4], \"z\": [3, 0, 0, 3]}, {\"marker\": {\"color\": \"blue\", \"size\": 5.0}, \"name\": \"CONVEX HULL\", \"type\": \"scatter3d\", \"x\": [7, 7, 5, 7], \"y\": [4, 2, 2, 4], \"z\": [3, 0, 2, 3]}, {\"marker\": {\"color\": \"blue\", \"size\": 5.0}, \"name\": \"CONVEX HULL\", \"type\": \"scatter3d\", \"x\": [7, 5, 0, 7], \"y\": [2, 5, 4, 2], \"z\": [0, 0, 0, 0]}, {\"marker\": {\"color\": \"blue\", \"size\": 5.0}, \"name\": \"CONVEX HULL\", \"type\": \"scatter3d\", \"x\": [7, 2, 0, 7], \"y\": [2, 0, 4, 2], \"z\": [0, 0, 0, 0]}, {\"marker\": {\"color\": \"blue\", \"size\": 5.0}, \"name\": \"CONVEX HULL\", \"type\": \"scatter3d\", \"x\": [7, 5, 8, 7], \"y\": [2, 5, 4, 2], \"z\": [0, 0, 0, 0]}, {\"marker\": {\"color\": \"red\", \"size\": 5.0}, \"name\": \"CUBE ENGLOBANT\", \"type\": \"scatter3d\", \"x\": [0, 8, 8, 0, 0], \"y\": [0, 0, 0, 0, 0], \"z\": [0, 0, 4, 4, 0]}, {\"marker\": {\"color\": \"red\", \"size\": 5.0}, \"name\": \"CUBE ENGLOBANT\", \"type\": \"scatter3d\", \"x\": [0, 8, 8, 0, 0], \"y\": [5, 5, 5, 5, 5], \"z\": [0, 0, 4, 4, 0]}, {\"marker\": {\"color\": \"red\", \"size\": 5.0}, \"name\": \"CUBE ENGLOBANT\", \"type\": \"scatter3d\", \"x\": [8, 8], \"y\": [5, 0], \"z\": [4, 4]}, {\"marker\": {\"color\": \"red\", \"size\": 5.0}, \"name\": \"CUBE ENGLOBANT\", \"type\": \"scatter3d\", \"x\": [8, 8], \"y\": [5, 0], \"z\": [0, 0]}, {\"marker\": {\"color\": \"red\", \"size\": 5.0}, \"name\": \"CUBE ENGLOBANT\", \"type\": \"scatter3d\", \"x\": [0, 0], \"y\": [0, 5], \"z\": [4, 4]}, {\"marker\": {\"color\": \"red\", \"size\": 5.0}, \"name\": \"CUBE ENGLOBANT\", \"type\": \"scatter3d\", \"x\": [0, 0], \"y\": [0, 5], \"z\": [0, 0]}],                        {\"template\": {\"data\": {\"bar\": [{\"error_x\": {\"color\": \"#2a3f5f\"}, \"error_y\": {\"color\": \"#2a3f5f\"}, \"marker\": {\"line\": {\"color\": \"#E5ECF6\", \"width\": 0.5}}, \"type\": \"bar\"}], \"barpolar\": [{\"marker\": {\"line\": {\"color\": \"#E5ECF6\", \"width\": 0.5}}, \"type\": \"barpolar\"}], \"carpet\": [{\"aaxis\": {\"endlinecolor\": \"#2a3f5f\", \"gridcolor\": \"white\", \"linecolor\": \"white\", \"minorgridcolor\": \"white\", \"startlinecolor\": \"#2a3f5f\"}, \"baxis\": {\"endlinecolor\": \"#2a3f5f\", \"gridcolor\": \"white\", \"linecolor\": \"white\", \"minorgridcolor\": \"white\", \"startlinecolor\": \"#2a3f5f\"}, \"type\": \"carpet\"}], \"choropleth\": [{\"colorbar\": {\"outlinewidth\": 0, \"ticks\": \"\"}, \"type\": \"choropleth\"}], \"contour\": [{\"colorbar\": {\"outlinewidth\": 0, \"ticks\": \"\"}, \"colorscale\": [[0.0, \"#0d0887\"], [0.1111111111111111, \"#46039f\"], [0.2222222222222222, \"#7201a8\"], [0.3333333333333333, \"#9c179e\"], [0.4444444444444444, \"#bd3786\"], [0.5555555555555556, \"#d8576b\"], [0.6666666666666666, \"#ed7953\"], [0.7777777777777778, \"#fb9f3a\"], [0.8888888888888888, \"#fdca26\"], [1.0, \"#f0f921\"]], \"type\": \"contour\"}], \"contourcarpet\": [{\"colorbar\": {\"outlinewidth\": 0, \"ticks\": \"\"}, \"type\": \"contourcarpet\"}], \"heatmap\": [{\"colorbar\": {\"outlinewidth\": 0, \"ticks\": \"\"}, \"colorscale\": [[0.0, \"#0d0887\"], [0.1111111111111111, \"#46039f\"], [0.2222222222222222, \"#7201a8\"], [0.3333333333333333, \"#9c179e\"], [0.4444444444444444, \"#bd3786\"], [0.5555555555555556, \"#d8576b\"], [0.6666666666666666, \"#ed7953\"], [0.7777777777777778, \"#fb9f3a\"], [0.8888888888888888, \"#fdca26\"], [1.0, \"#f0f921\"]], \"type\": \"heatmap\"}], \"heatmapgl\": [{\"colorbar\": {\"outlinewidth\": 0, \"ticks\": \"\"}, \"colorscale\": [[0.0, \"#0d0887\"], [0.1111111111111111, \"#46039f\"], [0.2222222222222222, \"#7201a8\"], [0.3333333333333333, \"#9c179e\"], [0.4444444444444444, \"#bd3786\"], [0.5555555555555556, \"#d8576b\"], [0.6666666666666666, \"#ed7953\"], [0.7777777777777778, \"#fb9f3a\"], [0.8888888888888888, \"#fdca26\"], [1.0, \"#f0f921\"]], \"type\": \"heatmapgl\"}], \"histogram\": [{\"marker\": {\"colorbar\": {\"outlinewidth\": 0, \"ticks\": \"\"}}, \"type\": \"histogram\"}], \"histogram2d\": [{\"colorbar\": {\"outlinewidth\": 0, \"ticks\": \"\"}, \"colorscale\": [[0.0, \"#0d0887\"], [0.1111111111111111, \"#46039f\"], [0.2222222222222222, \"#7201a8\"], [0.3333333333333333, \"#9c179e\"], [0.4444444444444444, \"#bd3786\"], [0.5555555555555556, \"#d8576b\"], [0.6666666666666666, \"#ed7953\"], [0.7777777777777778, \"#fb9f3a\"], [0.8888888888888888, \"#fdca26\"], [1.0, \"#f0f921\"]], \"type\": \"histogram2d\"}], \"histogram2dcontour\": [{\"colorbar\": {\"outlinewidth\": 0, \"ticks\": \"\"}, \"colorscale\": [[0.0, \"#0d0887\"], [0.1111111111111111, \"#46039f\"], [0.2222222222222222, \"#7201a8\"], [0.3333333333333333, \"#9c179e\"], [0.4444444444444444, \"#bd3786\"], [0.5555555555555556, \"#d8576b\"], [0.6666666666666666, \"#ed7953\"], [0.7777777777777778, \"#fb9f3a\"], [0.8888888888888888, \"#fdca26\"], [1.0, \"#f0f921\"]], \"type\": \"histogram2dcontour\"}], \"mesh3d\": [{\"colorbar\": {\"outlinewidth\": 0, \"ticks\": \"\"}, \"type\": \"mesh3d\"}], \"parcoords\": [{\"line\": {\"colorbar\": {\"outlinewidth\": 0, \"ticks\": \"\"}}, \"type\": \"parcoords\"}], \"pie\": [{\"automargin\": true, \"type\": \"pie\"}], \"scatter\": [{\"marker\": {\"colorbar\": {\"outlinewidth\": 0, \"ticks\": \"\"}}, \"type\": \"scatter\"}], \"scatter3d\": [{\"line\": {\"colorbar\": {\"outlinewidth\": 0, \"ticks\": \"\"}}, \"marker\": {\"colorbar\": {\"outlinewidth\": 0, \"ticks\": \"\"}}, \"type\": \"scatter3d\"}], \"scattercarpet\": [{\"marker\": {\"colorbar\": {\"outlinewidth\": 0, \"ticks\": \"\"}}, \"type\": \"scattercarpet\"}], \"scattergeo\": [{\"marker\": {\"colorbar\": {\"outlinewidth\": 0, \"ticks\": \"\"}}, \"type\": \"scattergeo\"}], \"scattergl\": [{\"marker\": {\"colorbar\": {\"outlinewidth\": 0, \"ticks\": \"\"}}, \"type\": \"scattergl\"}], \"scattermapbox\": [{\"marker\": {\"colorbar\": {\"outlinewidth\": 0, \"ticks\": \"\"}}, \"type\": \"scattermapbox\"}], \"scatterpolar\": [{\"marker\": {\"colorbar\": {\"outlinewidth\": 0, \"ticks\": \"\"}}, \"type\": \"scatterpolar\"}], \"scatterpolargl\": [{\"marker\": {\"colorbar\": {\"outlinewidth\": 0, \"ticks\": \"\"}}, \"type\": \"scatterpolargl\"}], \"scatterternary\": [{\"marker\": {\"colorbar\": {\"outlinewidth\": 0, \"ticks\": \"\"}}, \"type\": \"scatterternary\"}], \"surface\": [{\"colorbar\": {\"outlinewidth\": 0, \"ticks\": \"\"}, \"colorscale\": [[0.0, \"#0d0887\"], [0.1111111111111111, \"#46039f\"], [0.2222222222222222, \"#7201a8\"], [0.3333333333333333, \"#9c179e\"], [0.4444444444444444, \"#bd3786\"], [0.5555555555555556, \"#d8576b\"], [0.6666666666666666, \"#ed7953\"], [0.7777777777777778, \"#fb9f3a\"], [0.8888888888888888, \"#fdca26\"], [1.0, \"#f0f921\"]], \"type\": \"surface\"}], \"table\": [{\"cells\": {\"fill\": {\"color\": \"#EBF0F8\"}, \"line\": {\"color\": \"white\"}}, \"header\": {\"fill\": {\"color\": \"#C8D4E3\"}, \"line\": {\"color\": \"white\"}}, \"type\": \"table\"}]}, \"layout\": {\"annotationdefaults\": {\"arrowcolor\": \"#2a3f5f\", \"arrowhead\": 0, \"arrowwidth\": 1}, \"coloraxis\": {\"colorbar\": {\"outlinewidth\": 0, \"ticks\": \"\"}}, \"colorscale\": {\"diverging\": [[0, \"#8e0152\"], [0.1, \"#c51b7d\"], [0.2, \"#de77ae\"], [0.3, \"#f1b6da\"], [0.4, \"#fde0ef\"], [0.5, \"#f7f7f7\"], [0.6, \"#e6f5d0\"], [0.7, \"#b8e186\"], [0.8, \"#7fbc41\"], [0.9, \"#4d9221\"], [1, \"#276419\"]], \"sequential\": [[0.0, \"#0d0887\"], [0.1111111111111111, \"#46039f\"], [0.2222222222222222, \"#7201a8\"], [0.3333333333333333, \"#9c179e\"], [0.4444444444444444, \"#bd3786\"], [0.5555555555555556, \"#d8576b\"], [0.6666666666666666, \"#ed7953\"], [0.7777777777777778, \"#fb9f3a\"], [0.8888888888888888, \"#fdca26\"], [1.0, \"#f0f921\"]], \"sequentialminus\": [[0.0, \"#0d0887\"], [0.1111111111111111, \"#46039f\"], [0.2222222222222222, \"#7201a8\"], [0.3333333333333333, \"#9c179e\"], [0.4444444444444444, \"#bd3786\"], [0.5555555555555556, \"#d8576b\"], [0.6666666666666666, \"#ed7953\"], [0.7777777777777778, \"#fb9f3a\"], [0.8888888888888888, \"#fdca26\"], [1.0, \"#f0f921\"]]}, \"colorway\": [\"#636efa\", \"#EF553B\", \"#00cc96\", \"#ab63fa\", \"#FFA15A\", \"#19d3f3\", \"#FF6692\", \"#B6E880\", \"#FF97FF\", \"#FECB52\"], \"font\": {\"color\": \"#2a3f5f\"}, \"geo\": {\"bgcolor\": \"white\", \"lakecolor\": \"white\", \"landcolor\": \"#E5ECF6\", \"showlakes\": true, \"showland\": true, \"subunitcolor\": \"white\"}, \"hoverlabel\": {\"align\": \"left\"}, \"hovermode\": \"closest\", \"mapbox\": {\"style\": \"light\"}, \"paper_bgcolor\": \"white\", \"plot_bgcolor\": \"#E5ECF6\", \"polar\": {\"angularaxis\": {\"gridcolor\": \"white\", \"linecolor\": \"white\", \"ticks\": \"\"}, \"bgcolor\": \"#E5ECF6\", \"radialaxis\": {\"gridcolor\": \"white\", \"linecolor\": \"white\", \"ticks\": \"\"}}, \"scene\": {\"xaxis\": {\"backgroundcolor\": \"#E5ECF6\", \"gridcolor\": \"white\", \"gridwidth\": 2, \"linecolor\": \"white\", \"showbackground\": true, \"ticks\": \"\", \"zerolinecolor\": \"white\"}, \"yaxis\": {\"backgroundcolor\": \"#E5ECF6\", \"gridcolor\": \"white\", \"gridwidth\": 2, \"linecolor\": \"white\", \"showbackground\": true, \"ticks\": \"\", \"zerolinecolor\": \"white\"}, \"zaxis\": {\"backgroundcolor\": \"#E5ECF6\", \"gridcolor\": \"white\", \"gridwidth\": 2, \"linecolor\": \"white\", \"showbackground\": true, \"ticks\": \"\", \"zerolinecolor\": \"white\"}}, \"shapedefaults\": {\"line\": {\"color\": \"#2a3f5f\"}}, \"ternary\": {\"aaxis\": {\"gridcolor\": \"white\", \"linecolor\": \"white\", \"ticks\": \"\"}, \"baxis\": {\"gridcolor\": \"white\", \"linecolor\": \"white\", \"ticks\": \"\"}, \"bgcolor\": \"#E5ECF6\", \"caxis\": {\"gridcolor\": \"white\", \"linecolor\": \"white\", \"ticks\": \"\"}}, \"title\": {\"x\": 0.05}, \"xaxis\": {\"automargin\": true, \"gridcolor\": \"white\", \"linecolor\": \"white\", \"ticks\": \"\", \"title\": {\"standoff\": 15}, \"zerolinecolor\": \"white\", \"zerolinewidth\": 2}, \"yaxis\": {\"automargin\": true, \"gridcolor\": \"white\", \"linecolor\": \"white\", \"ticks\": \"\", \"title\": {\"standoff\": 15}, \"zerolinecolor\": \"white\", \"zerolinewidth\": 2}}}},                        {\"responsive\": true}                    ).then(function(){\n",
       "                            \n",
       "var gd = document.getElementById('ff7c4283-1bf1-4022-9b70-43cdacfebab3');\n",
       "var x = new MutationObserver(function (mutations, observer) {{\n",
       "        var display = window.getComputedStyle(gd).display;\n",
       "        if (!display || display === 'none') {{\n",
       "            console.log([gd, 'removed!']);\n",
       "            Plotly.purge(gd);\n",
       "            observer.disconnect();\n",
       "        }}\n",
       "}});\n",
       "\n",
       "// Listen for the removal of the full notebook cells\n",
       "var notebookContainer = gd.closest('#notebook-container');\n",
       "if (notebookContainer) {{\n",
       "    x.observe(notebookContainer, {childList: true});\n",
       "}}\n",
       "\n",
       "// Listen for the clearing of the current output cell\n",
       "var outputEl = gd.closest('.output');\n",
       "if (outputEl) {{\n",
       "    x.observe(outputEl, {childList: true});\n",
       "}}\n",
       "\n",
       "                        })                };                });            </script>        </div>"
      ]
     },
     "metadata": {},
     "output_type": "display_data"
    }
   ],
   "source": [
    "def main2() :\n",
    "    \n",
    "    fig = go.Figure()\n",
    "\n",
    "    \n",
    "    #draw_all_integral_points(S,fig)\n",
    "    draw_bounding_octagon_and_second_rectangle(S1,fig) \n",
    "    draw_points_3D(S1,fig)\n",
    "    draw_convex_hull_3D(S1,fig) \n",
    "    draw_bounding_box_3D(S1,fig)\n",
    "    #draw_bounding_box_points(S1,fig)\n",
    "    \n",
    "    fig.show()\n",
    "\n",
    "    \n",
    "main2()"
   ]
  },
  {
   "cell_type": "code",
   "execution_count": null,
   "metadata": {},
   "outputs": [],
   "source": []
  }
 ],
 "metadata": {
  "kernelspec": {
   "display_name": "SageMath 9.2",
   "language": "sage",
   "name": "sagemath"
  },
  "language_info": {
   "codemirror_mode": {
    "name": "ipython",
    "version": 3
   },
   "file_extension": ".py",
   "mimetype": "text/x-python",
   "name": "python",
   "nbconvert_exporter": "python",
   "pygments_lexer": "ipython3",
   "version": "3.9.1rc1"
  }
 },
 "nbformat": 4,
 "nbformat_minor": 4
}
