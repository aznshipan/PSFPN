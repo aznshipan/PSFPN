{
 "cells": [
  {
   "cell_type": "code",
   "execution_count": 15,
   "metadata": {},
   "outputs": [],
   "source": [
    "#support reduction\n",
    "import sage.all"
   ]
  },
  {
   "cell_type": "code",
   "execution_count": 16,
   "metadata": {},
   "outputs": [],
   "source": [
    "S = {(2,0), (1,1), (5,2), (7,2), (2,3), (0,4), (7,4), (8,4), (5,5)}"
   ]
  },
  {
   "cell_type": "code",
   "execution_count": 17,
   "metadata": {},
   "outputs": [],
   "source": [
    "def lambda_substi(couple):\n",
    "    \"\"\"\n",
    "    tuple --> tuple\n",
    "    i, j --> i-j, j\n",
    "    \"\"\"\n",
    "    i,j = couple\n",
    "    i1 = i-j\n",
    "    return i1, j\n",
    "\n",
    "def mu_swap(couple):\n",
    "    \"\"\"\n",
    "    tuple --> tuple\n",
    "    i, j --> j, i\n",
    "    \"\"\"\n",
    "    \n",
    "    i, j = couple\n",
    "    return j,i\n",
    "\n",
    "def mu(ensemble_arg):\n",
    "    \"\"\"\n",
    "    set -> set\n",
    "    applique mu_swap a tous les tuple de ensemble_arg\n",
    "    \"\"\"\n",
    "    ensemble = set()\n",
    "    for i,j in ensemble_arg:\n",
    "        ensemble.add(mu_swap((i,j)))\n",
    "    return ensemble\n",
    "\n",
    "def tau_k(couple, k):\n",
    "    \"\"\"\n",
    "    tuple --> tuple\n",
    "    i, j --> i+k, j\n",
    "    \"\"\"\n",
    "    i, j = couple\n",
    "    return i+k, j"
   ]
  },
  {
   "cell_type": "code",
   "execution_count": 10,
   "metadata": {},
   "outputs": [],
   "source": [
    "def support_reduc(S, n):\n",
    "    \"\"\"\n",
    "    Set * float --> Set\n",
    "    Rend U appartenant a Aff(Z^2) tel que U(S) est n-reduit\n",
    "    \"\"\"\n",
    "    if n < 0 or n > 3/4:\n",
    "        print(\"Erreur n\")\n",
    "        return None\n",
    "    \n",
    "    #Calcul de dx et dy\n",
    "    dx = 0\n",
    "    dy = 0\n",
    "    for i,j in S:\n",
    "        if i > dx:\n",
    "            dx = i\n",
    "        if j > dy:\n",
    "            dy = j\n",
    "    print(\"dx = \" + str(dx) + \"\\ndy = \" + str(dy)+\"\\n\")\n",
    "    \n",
    "    U = identity_matrix(2)\n",
    "    \n",
    "    while(True):\n",
    "        if dx < dy:\n",
    "            S = mu(S)\n",
    "            U = \n",
    "    \n",
    "    return None"
   ]
  },
  {
   "cell_type": "code",
   "execution_count": 11,
   "metadata": {},
   "outputs": [
    {
     "name": "stdout",
     "output_type": "stream",
     "text": [
      "dx = 8\n",
      "dy = 5\n",
      "\n",
      "[1 0]\n",
      "[0 1]\n"
     ]
    }
   ],
   "source": [
    "test = support_reduc(S, 0)"
   ]
  },
  {
   "cell_type": "code",
   "execution_count": 9,
   "metadata": {},
   "outputs": [
    {
     "name": "stdout",
     "output_type": "stream",
     "text": [
      "(2, 5)\n"
     ]
    }
   ],
   "source": [
    "i,j = mu_swap((5,2))\n",
    "print(i, j)"
   ]
  },
  {
   "cell_type": "code",
   "execution_count": 14,
   "metadata": {},
   "outputs": [
    {
     "name": "stdout",
     "output_type": "stream",
     "text": [
      "set([(2, 7), (4, 7), (5, 5), (4, 8), (3, 2), (1, 1), (2, 5), (0, 2), (4, 0)])\n"
     ]
    }
   ],
   "source": []
  },
  {
   "cell_type": "code",
   "execution_count": null,
   "metadata": {},
   "outputs": [],
   "source": []
  }
 ],
 "metadata": {
  "kernelspec": {
   "display_name": "SageMath 9.1",
   "language": "sage",
   "name": "sagemath"
  },
  "language_info": {
   "codemirror_mode": {
    "name": "ipython",
    "version": 2
   },
   "file_extension": ".py",
   "mimetype": "text/x-python",
   "name": "python",
   "nbconvert_exporter": "python",
   "pygments_lexer": "ipython2",
   "version": "2.7.15"
  }
 },
 "nbformat": 4,
 "nbformat_minor": 2
}
