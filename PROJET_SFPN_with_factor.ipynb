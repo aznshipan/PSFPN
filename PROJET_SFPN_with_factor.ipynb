{
 "cells": [
  {
   "cell_type": "code",
   "execution_count": 62,
   "metadata": {},
   "outputs": [],
   "source": [
    "import sage.all\n",
    "import numpy as np\n",
    "import math\n",
    "import time"
   ]
  },
  {
   "cell_type": "code",
   "execution_count": 12,
   "metadata": {},
   "outputs": [],
   "source": [
    "S = {(2,0), (1,1), (5,2), (7,2), (2,3), (0,4), (7,4), (8,4), (5,5)}\n",
    "S1 = {(0,0), (1,1), (5,2)}\n",
    "\n",
    "def tuples_to_vec(S) :\n",
    "    tmp_S = set()\n",
    "    for (i,j) in S :\n",
    "        v = vector([i,j])\n",
    "        v.set_immutable()\n",
    "        tmp_S.add(v)\n",
    "    return tmp_S\n"
   ]
  },
  {
   "cell_type": "code",
   "execution_count": 13,
   "metadata": {},
   "outputs": [],
   "source": [
    "#Min_Max S \n",
    "\n",
    "def min_S_plus(S) :\n",
    "    \"\"\" list[int] -> int\n",
    "        Retourne le minimum de (i+j) de l'ensemble S\"\"\"\n",
    "    \n",
    "    mini = 10000\n",
    "    \n",
    "    for (i,j) in S :\n",
    "        val = (i+j)\n",
    "        if val < mini :\n",
    "            mini = val\n",
    "    \n",
    "    return mini\n",
    "\n",
    "def min_S_moins(S) :\n",
    "    \"\"\" list[int] -> int\n",
    "        Retourne le minimum de (i-j) de l'ensemble S\"\"\"\n",
    "    \n",
    "    mini = 10000\n",
    "    \n",
    "    for (i,j) in S :\n",
    "        val = (i-j)\n",
    "        if val < mini :\n",
    "            mini = val\n",
    "    \n",
    "    return mini\n",
    "\n",
    "\n",
    "def max_S_moins(S) :\n",
    "    \"\"\" list[int] -> int\n",
    "        Retourne le maximum de (i-j) de l'ensemble S\"\"\"\n",
    "    \n",
    "    maxi = 0\n",
    "    \n",
    "    for (i,j) in S :\n",
    "        val = (i-j)\n",
    "        if val > maxi :\n",
    "            maxi = val\n",
    "    \n",
    "    return maxi\n",
    "\n",
    "def max_S_plus(S) :\n",
    "    \"\"\" list[int] -> int\n",
    "        Retourne le maximum de (i+j) de l'ensemble S\"\"\"\n",
    "    \n",
    "    maxi = 0\n",
    "    \n",
    "    for (i,j) in S :\n",
    "        val = (i+j)\n",
    "        if val > maxi :\n",
    "            maxi = val\n",
    "    \n",
    "    return maxi"
   ]
  },
  {
   "cell_type": "code",
   "execution_count": 14,
   "metadata": {},
   "outputs": [],
   "source": [
    "def min_S_plus_q(S,q) :\n",
    "    \"\"\" list[int] -> int\n",
    "        Retourne le minimum de (i+gj) de l'ensemble S\"\"\"\n",
    "    \n",
    "    mini = 10000\n",
    "    \n",
    "    for (i,j) in S :\n",
    "        val = (i+(q*j))\n",
    "        if val < mini :\n",
    "            mini = val\n",
    "    \n",
    "    return mini\n",
    "\n",
    "\n",
    "def min_S_moins_q(S,q) :\n",
    "    \"\"\" list[int] -> int\n",
    "        Retourne le minimum de (i-gj) de l'ensemble S\"\"\"\n",
    "    \n",
    "    mini = 10000\n",
    "    \n",
    "    for (i,j) in S :\n",
    "        val = (i-(q*j))\n",
    "        if val < mini :\n",
    "            mini = val\n",
    "    \n",
    "    return mini\n",
    "\n",
    "\n",
    "def max_S_moins_q(S,q) :\n",
    "    \"\"\" list[int] -> int\n",
    "        Retourne le maximum de (i-qj) de l'ensemble S\"\"\"\n",
    "    \n",
    "    maxi = 0\n",
    "    \n",
    "    for (i,j) in S :\n",
    "        val = (i-(q*j))\n",
    "        if val > maxi :\n",
    "            maxi = val\n",
    "    \n",
    "    return maxi\n",
    "\n",
    "def max_S_plus_q(S,q) :\n",
    "    \"\"\" list[int] -> int\n",
    "        Retourne le maximum de (i+qj) de l'ensemble S\"\"\"\n",
    "    \n",
    "    maxi = 0\n",
    "    \n",
    "    for (i,j) in S :\n",
    "        val = (i+(q*j))\n",
    "        if val > maxi :\n",
    "            maxi = val\n",
    "    \n",
    "    return maxi"
   ]
  },
  {
   "cell_type": "code",
   "execution_count": 15,
   "metadata": {},
   "outputs": [],
   "source": [
    "\n",
    "#Transformations élémentaires :\n",
    "\n",
    "def lambdas(vec) :\n",
    "    \"\"\" int * int -> int * int\n",
    "        Retourne (i-j,j)\"\"\"\n",
    "    A = Matrix([[1,-1],[0,1]])\n",
    "    b = vector([0,0])\n",
    "    \n",
    "    \n",
    "    return A * vec + b\n",
    "\n",
    "def lambdas_inverse(vec) :\n",
    "    \"\"\" int * int -> int * int\n",
    "        Retourne (i-j,j)\"\"\"\n",
    "    A = Matrix([[1,1],[0,1]])\n",
    "    b = vector([0,0])\n",
    "    return A * vec + b\n",
    "\n",
    "def nu(vec) :\n",
    "    \"\"\" int * int -> int * int\n",
    "        Retourne (j,i)\"\"\"\n",
    "    A = Matrix([[0,1],[1,0]])\n",
    "    b = vector([0, 0])\n",
    "    return A * vec + b\n",
    "\n",
    "def tk(vec,k) :\n",
    "    \"\"\" int * int -> int * int\n",
    "        Retourne (i+k,i)\"\"\"\n",
    "    A = matrix.identity(2)\n",
    "    b = vector([k, 0])\n",
    "    return A * vec + b\n",
    "\n",
    "# Retourne A et b de chaques fonctions : \n",
    "\n",
    "def lambdas_couple(vec) :\n",
    "    \"\"\" int * int -> int * int\n",
    "        Retourne le couple A, b correspondants à lambda, avec A une metrice 2x2 et b un matrice colonne\"\"\"\n",
    "    j = vec[1]\n",
    "    A = matrix.identity(2)\n",
    "    b = vector([-j, 0])\n",
    "    return (A,b)\n",
    "\n",
    "def lambdas_inverse_couple(vec) :\n",
    "    \"\"\" int * int -> int * int\n",
    "        Retourne le couple A, b correspondants à lambda_inverse, avec A une metrice 2x2 et b un matrice colonne\"\"\"\n",
    "    j = vec[1]\n",
    "    A = matrix.identity(2)\n",
    "    b = vector([j, 0])\n",
    "    return (A,b)\n",
    "\n",
    "def nu_couple() :\n",
    "    \"\"\" int * int -> int * int\n",
    "        Retourne le couple A, b correspondants à nu, avec A une metrice 2x2 et b un matrice colonne\"\"\"\n",
    "    A = Matrix(2,2) + Matrix([[0,1],[1,0]])\n",
    "    b = vector([0, 0])\n",
    "    return (A,b)\n",
    "\n",
    "def tk_couple(vec,k) :\n",
    "    \"\"\" int * int -> int * int\n",
    "        Retourne le couple A, b correspondants à tau_k, avec A une metrice 2x2 et b un matrice colonne\"\"\"\n",
    "    A = matrix.identity(2)\n",
    "    b = vector([k, 0])\n",
    "    return (A,b)\n",
    "    \n",
    "# Transformation élémentaires sur S : \n",
    "\n",
    "def lambda_S(S) :\n",
    "    \"\"\" set(vec) -> set(tuples(int,int))\n",
    "        Applique lambdas sur tous les couples (i,j) de S \"\"\"\n",
    "    \n",
    "    S1 = set()\n",
    "    \n",
    "    for (i,j) in S :\n",
    "        \n",
    "        v =  vector([i,j])\n",
    "        result = lambdas(v)\n",
    "        result.set_immutable()\n",
    "        S1.add(result)\n",
    "        \n",
    "    return S1\n",
    "\n",
    "def lambda_inverse_S(S) :\n",
    "    \"\"\" set(vec) -> set(tuples(int,int))\n",
    "        Applique lambdas_inverse sur tous les couples (i,j) de S \"\"\"\n",
    "    \n",
    "    S1 = set()\n",
    "    \n",
    "    for (i,j) in S :\n",
    "        \n",
    "        v =  vector([i,j])\n",
    "        result = lambdas_inverse(v)\n",
    "        result.set_immutable()\n",
    "        S1.add(result)\n",
    "        \n",
    "    return S1\n",
    "\n",
    "def nu_S(S) :\n",
    "    \"\"\" set(tuples(int,int)) -> set(tuples(int,int))\n",
    "        Applique nu sur tous les couples (i,j) de S \"\"\"\n",
    "    \n",
    "    S1 = set()\n",
    "    \n",
    "    for (i,j) in S :\n",
    "        \n",
    "        v =  vector([i,j])\n",
    "        result = nu(v)\n",
    "        result.set_immutable()\n",
    "        S1.add(result)\n",
    "        \n",
    "    return S1\n",
    "\n",
    "def tk_S(S,k) :\n",
    "    \"\"\" set(tuples(int,int)) * int -> set(tuples(int,int))\n",
    "        Applique tk sur tous les couples (i,j) de S \"\"\"\n",
    "    \n",
    "    S1 = set()\n",
    "    \n",
    "    for (i,j) in S :\n",
    "        \n",
    "        v =  vector([i,j])\n",
    "        result = tk(v,k)\n",
    "        result.set_immutable()\n",
    "        S1.add(result)\n",
    "        \n",
    "    return S1\n",
    "\n",
    "def lambda_U(A, b):\n",
    "    \"\"\"\n",
    "    Matrice 2x2 * Matrice vecteur 2 --> Matrice 2x2 * Matrice vecteur 2\n",
    "    Rend les matrices A et b correspondant a λ ◦ U \n",
    "    \"\"\"\n",
    "    Al = Matrix([[-A[1][0],-A[1][1]],[0,0]])\n",
    "    bl = vector([-b[1], 0])\n",
    "    \n",
    "    return Al+A, bl+b\n",
    "\n",
    "\n",
    "def lambda_inverse_U(A, b):\n",
    "    \"\"\"\n",
    "    Matrice 2x2 * Matrice vecteur 2 --> Matrice 2x2 * Matrice vecteur 2\n",
    "    Rend les matrices A et b correspondant a λ_inverse ◦ U \n",
    "    \"\"\"\n",
    "    Al = Matrix([[A[1][0],A[1][1]],[0,0]])\n",
    "    bl = vector([b[1], 0])\n",
    "    \n",
    "    return Al+A, bl+b\n",
    "\n",
    "def tau_k_U(A, b, k):\n",
    "    \"\"\"\n",
    "    Matrice 2x2 * Matrice vecteur 2 --> Matrice 2x2 * Matrice vecteur 2\n",
    "    Rend les matrices A et b correspondant a τ ◦ U \n",
    "    \"\"\"\n",
    "    bt = vector([k, 0])\n",
    "    \n",
    "    return A, bt+b"
   ]
  },
  {
   "cell_type": "code",
   "execution_count": 16,
   "metadata": {},
   "outputs": [],
   "source": [
    "def lambdas_q(vec, q) :\n",
    "    \"\"\" int * int -> int * int\n",
    "        Retourne (i-qj,j)\"\"\"\n",
    "    A = Matrix([[1,-q],[0,1]])\n",
    "    b = vector([0,0])\n",
    "    \n",
    "    \n",
    "    return A * vec + b\n",
    "\n",
    "def lambdas_inverse_q(vec, q) :\n",
    "    \"\"\" int * int -> int * int\n",
    "        Retourne (i+qj,j)\"\"\"\n",
    "    A = Matrix([[1,q],[0,1]])\n",
    "    b = vector([0,0])\n",
    "    return A * vec + b\n",
    "\n",
    "\n",
    "def lambda_S_q(S, q) :\n",
    "    \"\"\" set(vec) -> set(tuples(int,int))\n",
    "        Applique lambdas_q sur tous les couples (i,j) de S \"\"\"\n",
    "    \n",
    "    S1 = set()\n",
    "    \n",
    "    for (i,j) in S :\n",
    "        \n",
    "        v =  vector([i,j])\n",
    "        result = lambdas_q(v, q)\n",
    "        result.set_immutable()\n",
    "        S1.add(result)\n",
    "        \n",
    "    return S1\n",
    "\n",
    "def lambda_inverse_S_q(S, q) :\n",
    "    \"\"\" set(vec) -> set(tuples(int,int))\n",
    "        Applique lambdas_inverse_q sur tous les couples (i,j) de S \"\"\"\n",
    "    \n",
    "    S1 = set()\n",
    "    \n",
    "    for (i,j) in S :\n",
    "        \n",
    "        v =  vector([i,j])\n",
    "        result = lambdas_inverse_q(v, q)\n",
    "        result.set_immutable()\n",
    "        S1.add(result)\n",
    "        \n",
    "    return S1\n",
    "\n",
    "def lambda_U_q(A, b, q):\n",
    "    \"\"\"\n",
    "    Matrice 2x2 * Matrice vecteur 2 --> Matrice 2x2 * Matrice vecteur 2\n",
    "    Rend les matrices A et b correspondant a λ_q ◦ U \n",
    "    \"\"\"\n",
    "    Al = Matrix([[(-q)*A[1][0],(-q)*A[1][1]],[0,0]])\n",
    "    bl = vector([(-q)*b[1], 0])\n",
    "    \n",
    "    return Al+A, bl+b\n",
    "\n",
    "\n",
    "def lambda_inverse_U_q(A, b, q):\n",
    "    \"\"\"\n",
    "    Matrice 2x2 * Matrice vecteur 2 --> Matrice 2x2 * Matrice vecteur 2\n",
    "    Rend les matrices A et b correspondant a λ_inverse_q ◦ U \n",
    "    \"\"\"\n",
    "    Al = Matrix([[q*A[1][0],q*A[1][1]],[0,0]])\n",
    "    bl = vector([q*b[1], 0])\n",
    "    \n",
    "    return Al+A, bl+b"
   ]
  },
  {
   "cell_type": "code",
   "execution_count": 100,
   "metadata": {},
   "outputs": [],
   "source": [
    "def support_reduction(S,n) :\n",
    "    \"\"\"list[tuples(int)] * int * float -> \n",
    "        Reduit S\"\"\"\n",
    "    \n",
    "    #Matrice A et vecteur b de chaque fonctions :\n",
    "    S = tuples_to_vec(S)\n",
    "    #set(tuples(int,int))\n",
    "    S1 = set()\n",
    "    #Calcul de dx et dy\n",
    "    dx = 0\n",
    "    dy = 0\n",
    "    tmp = 0 \n",
    "    for i,j in S:\n",
    "        if i > dx:\n",
    "            dx = i\n",
    "        if j > dy:\n",
    "            dy = j   \n",
    "    #print(dx,dy)\n",
    "    #Initialisation de U : A COMPLETER !!!\n",
    "    A = matrix.identity(2)\n",
    "    bm = vector([0,0])\n",
    "    A.set_immutable()\n",
    "    bm.set_immutable()\n",
    "    \n",
    "    m = ceil(np.log2(dx/(n*dy)))-1\n",
    "    \n",
    "    while(True) :\n",
    "        # (1)\n",
    "        if dx < dy :\n",
    "            \n",
    "            #S := µ(S)\n",
    "            S = nu_S(S)\n",
    "            #U := µ ◦ U\n",
    "            tmp_A,tmp_b = nu_couple()\n",
    "            A =  tmp_A * A\n",
    "            bm =  tmp_A * bm\n",
    "            #print(A,bm)\n",
    "            # Swap dx and dy\n",
    "            tmp = dx \n",
    "            dx = dy\n",
    "            dy = tmp\n",
    "            m = ceil(np.log2(dx/(n*dy)))-1\n",
    "            #print(m)\n",
    "\n",
    "        # (2)\n",
    "        \n",
    "        if m < 0:\n",
    "            return (S,A,bm)\n",
    "        \n",
    "        # (3)\n",
    "        b = dx - max_S_moins_q(S, 2**m)\n",
    "        d = dx + ((2**m)*dy) - max_S_plus_q(S, 2**m)\n",
    "        f = ((2**m)*dy) + min_S_moins_q(S, 2**m)\n",
    "        h = min_S_plus_q(S, 2**m)\n",
    "        #print(b,d,f,h)\n",
    "        \n",
    "        # (4)\n",
    "        if b + f > (2**m)*( ( 1 + n ) * dy ) :\n",
    "            #S := τdy−f ◦ λ(S)....\n",
    "            S = tk_S(lambda_S_q(S,(2**m)),((2**m)*dy)-f)\n",
    "            \n",
    "            # λ ◦ U;.;;\n",
    "            tmp_A,tmp_b = lambda_U_q(A, bm, (2**m))\n",
    "            A = tmp_A\n",
    "            bm = tmp_b\n",
    "            \n",
    "            # τdy−f ◦ λ ◦ U....\n",
    "            tmp_A,tmp_b = tau_k_U(A, bm, ((2**m)*dy) - f)\n",
    "            bm = tmp_b\n",
    "            \n",
    "            #print(\"Dans la deuxieme transfo :\",A,bm)\n",
    "            \n",
    "            dx = dx + ((2**m)*dy) - b - f\n",
    "        elif d + h > (2**m)*((1+n) * dy) :\n",
    "            #S := τ−h ◦ λ_inverse(U)      \n",
    "            S = tk_S(lambda_inverse_S_q(S, (2**m)),-h)\n",
    "            \n",
    "            # λ ◦ U\n",
    "            tmp_A,tmp_b = lambda_inverse_U_q(A, bm, (2**m))\n",
    "            A = tmp_A\n",
    "            bm = tmp_b\n",
    "            \n",
    "            # τ-h ◦ λ ◦ U\n",
    "            tmp_A,tmp_b = tau_k_U(A, bm, -h)\n",
    "            A = tmp_A\n",
    "            bm = tmp_b\n",
    "            #print(\"Dans la troisieme transfo :\",A,bm)\n",
    "            \n",
    "            dx = dx + ((2**m)*dy) -d -h\n",
    "        #(5)\n",
    "        m = m - 1"
   ]
  },
  {
   "cell_type": "code",
   "execution_count": 101,
   "metadata": {},
   "outputs": [],
   "source": [
    "def apply_reduction(S, n):\n",
    "    \"\"\"\n",
    "    list[tuples(int)] * list[tuples(int)]\n",
    "    applique la réduction S avec n compris entre 0 et 3/4\n",
    "    \"\"\"\n",
    "    #print(\"Depart : {0}\\n\".format(S))\n",
    "    res = set()\n",
    "    S_res, AU, bU = support_reduction(S,n)\n",
    "    \"\"\"\n",
    "    print(\"Recuperation des Matrice A et b correspondant a la fonction affine U :\")\n",
    "    print(\"A = \")\n",
    "    print(AU)\n",
    "    print(\"b = \")\n",
    "    print(bU)\n",
    "    print(\"\")\n",
    "    \"\"\"\n",
    "    for i,j in S:\n",
    "        vec_res = AU*vector([i,j]) + bU\n",
    "        vec_res.set_immutable()\n",
    "        res.add(vec_res)\n",
    "    \n",
    "    #print(\"L'algorithme de reduction à renvoyé {0}\\n\".format(S_res))\n",
    "    #print(\"Resultat de l'application de la fonction affine U : {0}\" .format(res))\n",
    "    #print(\"Différence symétrique :\",res.symmetric_difference(S_res))\n",
    "    \n",
    "    if res != S_res :\n",
    "        print(\"Attention ! le résultat renvoyé par U ne correspond pas au résultat attendu !\")\n",
    "        return None\n",
    "    print(\"Correct !\")\n",
    "    return res"
   ]
  },
  {
   "cell_type": "code",
   "execution_count": 102,
   "metadata": {},
   "outputs": [
    {
     "name": "stdout",
     "output_type": "stream",
     "text": [
      "Correct !\n"
     ]
    }
   ],
   "source": [
    "reduction = apply_reduction(S1, 0.1)"
   ]
  },
  {
   "cell_type": "code",
   "execution_count": 103,
   "metadata": {},
   "outputs": [
    {
     "name": "stdout",
     "output_type": "stream",
     "text": [
      "Correct !\n"
     ]
    }
   ],
   "source": [
    "reduction2 = apply_reduction(S1, 1/2)"
   ]
  },
  {
   "cell_type": "code",
   "execution_count": 104,
   "metadata": {
    "scrolled": true
   },
   "outputs": [
    {
     "name": "stdout",
     "output_type": "stream",
     "text": [
      "Correct !\n"
     ]
    }
   ],
   "source": [
    "S2 = {(5,0), (5,3), (0,2)}\n",
    "reduction_S2 = apply_reduction(S2, 0.1)"
   ]
  },
  {
   "cell_type": "code",
   "execution_count": 105,
   "metadata": {},
   "outputs": [],
   "source": [
    "S3 = {(0,0), (1,1), (1000,2)}"
   ]
  },
  {
   "cell_type": "code",
   "execution_count": 106,
   "metadata": {},
   "outputs": [
    {
     "name": "stdout",
     "output_type": "stream",
     "text": [
      "Correct !\n"
     ]
    }
   ],
   "source": [
    "reduction_S3 = apply_reduction(S3, 0.5)"
   ]
  },
  {
   "cell_type": "code",
   "execution_count": 107,
   "metadata": {},
   "outputs": [],
   "source": [
    "S3 = {(0,0), (1,1), (5,2)}"
   ]
  },
  {
   "cell_type": "code",
   "execution_count": 108,
   "metadata": {},
   "outputs": [
    {
     "name": "stdout",
     "output_type": "stream",
     "text": [
      "{(7, 4), (5, 5), (8, 4), (0, 4), (1, 1), (2, 0), (2, 3), (7, 2), (5, 2)}\n"
     ]
    }
   ],
   "source": [
    "test = tuples_to_vec(S)\n",
    "print(test)"
   ]
  },
  {
   "cell_type": "code",
   "execution_count": 109,
   "metadata": {},
   "outputs": [
    {
     "name": "stdout",
     "output_type": "stream",
     "text": [
      "2\n"
     ]
    }
   ],
   "source": [
    "print(min_S_plus(test))"
   ]
  },
  {
   "cell_type": "code",
   "execution_count": 110,
   "metadata": {},
   "outputs": [
    {
     "name": "stdout",
     "output_type": "stream",
     "text": [
      "3.0\n"
     ]
    }
   ],
   "source": [
    "test = np.log2(8)\n",
    "print(test)"
   ]
  },
  {
   "cell_type": "code",
   "execution_count": 111,
   "metadata": {},
   "outputs": [
    {
     "name": "stdout",
     "output_type": "stream",
     "text": [
      "Correct !\n"
     ]
    },
    {
     "data": {
      "text/plain": [
       "{(0, 0), (2, 5), (8, 5)}"
      ]
     },
     "execution_count": 111,
     "metadata": {},
     "output_type": "execute_result"
    }
   ],
   "source": [
    "S4 = {(0,0), (5,2), (5, 8)}\n",
    "apply_reduction(S4, 0.5)"
   ]
  },
  {
   "cell_type": "code",
   "execution_count": 112,
   "metadata": {},
   "outputs": [],
   "source": [
    "def p1(n):\n",
    "    \"\"\"\n",
    "    int -> list(int, int)\n",
    "    \"\"\"\n",
    "    \n",
    "    poly = []\n",
    "    poly.append((n+1, 0))\n",
    "    \n",
    "    for i in range(n+1):\n",
    "        if ((i, n-1) not in poly) and i != 0:\n",
    "            poly.append((i, n-i))\n",
    "    return poly\n",
    "\n",
    "def affiche_poly(L):\n",
    "    \"\"\"\n",
    "    list(int, int) -> char\n",
    "    affiche le polynome correspondant\n",
    "    \"\"\"\n",
    "    \n",
    "    poly = ''\n",
    "    \n",
    "    for degx, degy in L:\n",
    "        if degx == 0:\n",
    "            poly = poly + \"y^{0} + \".format(degy)\n",
    "            continue\n",
    "        if degy == 0:\n",
    "            poly = poly +\"x^{0} + \".format(degx)\n",
    "            continue\n",
    "        poly = poly + \"x^{0}y^{1} + \".format(degx, degy)\n",
    "        \n",
    "    poly_f = poly[:-2]\n",
    "    return poly_f"
   ]
  },
  {
   "cell_type": "code",
   "execution_count": 113,
   "metadata": {},
   "outputs": [
    {
     "name": "stdout",
     "output_type": "stream",
     "text": [
      "[(4, 0), (1, 2), (2, 1), (3, 0)]\n"
     ]
    }
   ],
   "source": [
    "test_p = p1(3)\n",
    "print(test_p)"
   ]
  },
  {
   "cell_type": "code",
   "execution_count": 114,
   "metadata": {},
   "outputs": [
    {
     "name": "stdout",
     "output_type": "stream",
     "text": [
      "x^4 + x^1y^2 + x^2y^1 + x^3 \n"
     ]
    }
   ],
   "source": [
    "print(affiche_poly(test_p))"
   ]
  },
  {
   "cell_type": "code",
   "execution_count": null,
   "metadata": {},
   "outputs": [],
   "source": []
  },
  {
   "cell_type": "code",
   "execution_count": 115,
   "metadata": {},
   "outputs": [],
   "source": [
    "R.<x,y> = QQ[]\n",
    "\n",
    "def polynome(n):\n",
    "    \"\"\"\n",
    "    Renvoie le polynome exemple de la page 20 du PDF\n",
    "    \"\"\"\n",
    "    \n",
    "    f = x^(n+1)\n",
    "    for i in range(n+1):\n",
    "        f = f + (i*x^(i)*y^(n-i))\n",
    "    g = y^(n+1)\n",
    "    for i in range(n+1):\n",
    "        g = g + ((n-i)*x^(i)*y^(n-i))\n",
    "    h = x^((n//2)-1)*y^((n//2)-1)\n",
    "    for i in range(n+1):\n",
    "        h = h + x^(i)*y^(n-i)\n",
    "        \n",
    "    P = f*g*h\n",
    "    \n",
    "    return P    \n",
    "\n",
    "\n",
    "def poly_from_tuple(S):\n",
    "    \"\"\"\n",
    "    set(int, int) -> polynomials\n",
    "    renvoie le polynome à deux variable à partir des couples de l'ensemble S\n",
    "    \"\"\"\n",
    "    P = 0\n",
    "    \n",
    "    for degx, degy in S:\n",
    "        P = P + (x^(degx)*y^(degy))\n",
    "    \n",
    "    return P"
   ]
  },
  {
   "cell_type": "code",
   "execution_count": 116,
   "metadata": {},
   "outputs": [],
   "source": [
    "f = x^5*y^4\n",
    "g = x^5*y^4 + x^3*y^2"
   ]
  },
  {
   "cell_type": "code",
   "execution_count": 117,
   "metadata": {},
   "outputs": [
    {
     "data": {
      "text/plain": [
       "x^10*y^8 + x^8*y^6"
      ]
     },
     "execution_count": 117,
     "metadata": {},
     "output_type": "execute_result"
    }
   ],
   "source": [
    "f*g"
   ]
  },
  {
   "cell_type": "code",
   "execution_count": 118,
   "metadata": {},
   "outputs": [
    {
     "data": {
      "text/plain": [
       "x^2*y^5 + x^3*y^3 + x^2*y^3"
      ]
     },
     "execution_count": 118,
     "metadata": {},
     "output_type": "execute_result"
    }
   ],
   "source": [
    "f = poly_from_tuple({(2,3), (3,3), (2,5)})\n",
    "f"
   ]
  },
  {
   "cell_type": "code",
   "execution_count": 119,
   "metadata": {},
   "outputs": [
    {
     "name": "stdout",
     "output_type": "stream",
     "text": [
      "Correct !\n",
      "Factorisation du polynome initial : \n",
      "45.6493399143219\n",
      "Factorisation du polynome réduit : \n",
      "3.6699090003967285\n"
     ]
    }
   ],
   "source": [
    "Poly = polynome(1024)\n",
    "\n",
    "\n",
    "set_Poly = Poly.exponents()\n",
    "set_reduit = apply_reduction(set_Poly, 0.1)\n",
    "poly_reduit = poly_from_tuple(set_reduit)\n",
    "\n",
    "print(\"Factorisation du polynome initial : \")\n",
    "start = time.time()\n",
    "F_Poly = Poly.factor()\n",
    "print(time.time() - start)\n",
    "\n",
    "\n",
    "print(\"Factorisation du polynome réduit : \")\n",
    "start = time.time()\n",
    "F_Poly_reduit  = poly_reduit.factor()\n",
    "print(time.time() - start)\n",
    "#F_Poly\n",
    "\n"
   ]
  },
  {
   "cell_type": "code",
   "execution_count": 75,
   "metadata": {},
   "outputs": [
    {
     "name": "stdout",
     "output_type": "stream",
     "text": [
      "3.0009028911590576\n"
     ]
    }
   ],
   "source": []
  },
  {
   "cell_type": "code",
   "execution_count": null,
   "metadata": {},
   "outputs": [],
   "source": []
  }
 ],
 "metadata": {
  "kernelspec": {
   "display_name": "SageMath 9.2",
   "language": "sage",
   "name": "sagemath"
  },
  "language_info": {
   "codemirror_mode": {
    "name": "ipython",
    "version": 3
   },
   "file_extension": ".py",
   "mimetype": "text/x-python",
   "name": "python",
   "nbconvert_exporter": "python",
   "pygments_lexer": "ipython3",
   "version": "3.8.5"
  }
 },
 "nbformat": 4,
 "nbformat_minor": 4
}
