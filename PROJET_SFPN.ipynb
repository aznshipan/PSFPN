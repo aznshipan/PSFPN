{
 "cells": [
  {
   "cell_type": "code",
   "execution_count": 1,
   "metadata": {},
   "outputs": [],
   "source": [
    "import sage.all"
   ]
  },
  {
   "cell_type": "code",
   "execution_count": 2,
   "metadata": {},
   "outputs": [],
   "source": [
    "S = {(2,0), (1,1), (5,2), (7,2), (2,3), (0,4), (7,4), (8,4), (5,5)}"
   ]
  },
  {
   "cell_type": "code",
   "execution_count": 7,
   "metadata": {},
   "outputs": [],
   "source": [
    "#Transformations élémentaires :\n",
    "\n",
    "def lambdas(i,j) :\n",
    "    \"\"\" int * int -> int * int\n",
    "        Retourne (i-j,j)\"\"\"\n",
    "    return (i-j,j)\n",
    "\n",
    "def nu(i,j) :\n",
    "    \"\"\" int * int -> int * int\n",
    "        Retourne (j,i)\"\"\"\n",
    "    return (j,i)\n",
    "\n",
    "def tk(i,j,k) :\n",
    "    \"\"\" int * int -> int * int\n",
    "        Retourne (j,i)\"\"\"\n",
    "    return (i+k,j)\n",
    "\n",
    "# Transformation élémentaire sur un ensemble S :\n",
    "\n",
    "def lambda_S(S) :\n",
    "    \"\"\" set(tuples(int,int)) -> set(tuples(int,int))\n",
    "        Applique lambdas sur tous les couples (i,j) de S \"\"\"\n",
    "    \n",
    "    S1 = set()\n",
    "    for (i,j) in S :\n",
    "        S1.add(lambdas(i,j))\n",
    "    return S1\n",
    "\n",
    "def nu_S(S) :\n",
    "    \"\"\" set(tuples(int,int)) -> set(tuples(int,int))\n",
    "        Applique nu sur tous les couples (i,j) de S \"\"\"\n",
    "    \n",
    "    S1 = set()\n",
    "    for (i,j) in S :\n",
    "        S1.add(nu(i,j))\n",
    "    return S1\n",
    "\n",
    "def tk_S(S,k) :\n",
    "    \"\"\" set(tuples(int,int)) * int -> set(tuples(int,int))\n",
    "        Applique tk sur tous les couples (i,j) de S \"\"\"\n",
    "    \n",
    "    S1 = set()\n",
    "    for (i,j) in S :\n",
    "        S1.add(tk(i,j,k))\n",
    "    return S1\n",
    "\n",
    "#Min_Max S \n",
    "\n",
    "def min_S(S) :\n",
    "    \"\"\" list[int] -> int\n",
    "        Retourne le minimum de (i-j) de l'ensemble S\"\"\"\n",
    "    \n",
    "    mini = 0\n",
    "    \n",
    "    for (i,j) in S :\n",
    "        val = (i-j)\n",
    "        if val < mini :\n",
    "            mini = val\n",
    "    \n",
    "    return mini\n",
    "\n",
    "\n",
    "def max_S(S) :\n",
    "    \"\"\" list[int] -> int\n",
    "        Retourne le maximum de (i-j) de l'ensemble S\"\"\"\n",
    "    \n",
    "    maxi = 0\n",
    "    \n",
    "    for (i,j) in S :\n",
    "        val = (i-j)\n",
    "        if val > mini :\n",
    "            maxi = val\n",
    "    \n",
    "    return maxi"
   ]
  },
  {
   "cell_type": "code",
   "execution_count": null,
   "metadata": {},
   "outputs": [],
   "source": [
    "#Transformations élémentaires :\n",
    "\n",
    "def lambdas(vec) :\n",
    "    \"\"\" int * int -> int * int\n",
    "        Retourne (i-j,j)\"\"\"\n",
    "    A = matrix.identity(2)\n",
    "    b = matrix(2,1)\n",
    "    return A * Matrix([[x],[y]]) + b\n",
    "\n",
    "def nu(vec) :\n",
    "    \"\"\" int * int -> int * int\n",
    "        Retourne (j,i)\"\"\"\n",
    "    A = matrix.identity(2)\n",
    "    b = matrix(2,1)\n",
    "    A * Matrix([[x],[y]]) + b\n",
    "\n",
    "def tk(vec) :\n",
    "    \"\"\" int * int -> int * int\n",
    "        Retourne (j,i)\"\"\"\n",
    "    A = matrix.identity(2)\n",
    "    b = matrix(2,1)\n",
    "    A * Matrix([[x],[y]]) + b"
   ]
  },
  {
   "cell_type": "code",
   "execution_count": 4,
   "metadata": {},
   "outputs": [],
   "source": [
    "#Algorithme de réduction simple : \n",
    "\n",
    "def support_reduction(S,sigma,n) :\n",
    "    \"\"\"list[tuples(int)] * int * float -> \n",
    "        Reduit S\"\"\"\n",
    "    #set(tuples(int,int))\n",
    "    S1 = set()\n",
    "    #Calcul de dx et dy\n",
    "    dx = 0\n",
    "    dy = 0\n",
    "    for i,j in S:\n",
    "        if i > dx:\n",
    "            dx = i\n",
    "        if j > dy:\n",
    "            dy = j   \n",
    "    print(\"dx = \" + str(dx) + \"\\ndy = \" + str(dy)+\"\\n\")\n",
    "    \n",
    "    #Identité de U :\n",
    "    def U(x,y) :\n",
    "        \"\"\" int * int -> \"\"\"\n",
    "        A = matrix.identity(2)\n",
    "        b = matrix(2,1)\n",
    "        return A * Matrix([[x],[y]]) + b\n",
    "    \n",
    "    \n",
    "    while(True) :\n",
    "        if dx < dy :\n",
    "            S1 = nu_S(S)\n",
    "            U = n\n",
    "        \n",
    "        "
   ]
  },
  {
   "cell_type": "code",
   "execution_count": 5,
   "metadata": {},
   "outputs": [
    {
     "data": {
      "text/plain": [
       "[1 0]\n",
       "[0 1]"
      ]
     },
     "execution_count": 5,
     "metadata": {},
     "output_type": "execute_result"
    }
   ],
   "source": [
    "matrix.identity(2)"
   ]
  },
  {
   "cell_type": "code",
   "execution_count": 17,
   "metadata": {},
   "outputs": [
    {
     "data": {
      "text/plain": [
       "[2]\n",
       "[1]"
      ]
     },
     "execution_count": 17,
     "metadata": {},
     "output_type": "execute_result"
    }
   ],
   "source": [
    "Matrix([[2],[1]])"
   ]
  },
  {
   "cell_type": "code",
   "execution_count": null,
   "metadata": {},
   "outputs": [],
   "source": []
  }
 ],
 "metadata": {
  "kernelspec": {
   "display_name": "SageMath 9.2",
   "language": "sage",
   "name": "sagemath"
  },
  "language_info": {
   "codemirror_mode": {
    "name": "ipython",
    "version": 3
   },
   "file_extension": ".py",
   "mimetype": "text/x-python",
   "name": "python",
   "nbconvert_exporter": "python",
   "pygments_lexer": "ipython3",
   "version": "3.7.7"
  }
 },
 "nbformat": 4,
 "nbformat_minor": 4
}
